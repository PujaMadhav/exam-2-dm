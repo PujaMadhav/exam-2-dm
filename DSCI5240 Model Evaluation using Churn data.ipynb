{
 "cells": [
  {
   "cell_type": "markdown",
   "id": "7108d478",
   "metadata": {},
   "source": [
    "<p style=\"font-family: Arial; font-size:2.5em;color:green; font-style:bold\"><br>\n",
    "DSCI5240 Exam 1 Spring 2024\n",
    "</p><br>"
   ]
  },
  {
   "cell_type": "code",
   "execution_count": 2,
   "id": "bdf76d52",
   "metadata": {},
   "outputs": [],
   "source": [
    "# This code appears in every demonstration Notebook.\n",
    "# By default, when you run each cell, only the last output of the codes will show.\n",
    "# This code makes all outputs of a cell show.\n",
    "from IPython.core.interactiveshell import InteractiveShell\n",
    "InteractiveShell.ast_node_interactivity = \"all\""
   ]
  },
  {
   "cell_type": "markdown",
   "id": "ac71c155",
   "metadata": {},
   "source": [
    "Import the libraries and the dataset"
   ]
  },
  {
   "cell_type": "code",
   "execution_count": 23,
   "id": "1a6afeaa",
   "metadata": {},
   "outputs": [],
   "source": [
    "import pandas as pd\n",
    "import matplotlib.pyplot as plt\n",
    "churn = pd.read_csv('TelcoChurn.csv')"
   ]
  },
  {
   "cell_type": "code",
   "execution_count": 11,
   "id": "e576ba53",
   "metadata": {},
   "outputs": [
    {
     "data": {
      "text/plain": [
       "(7043, 21)"
      ]
     },
     "execution_count": 11,
     "metadata": {},
     "output_type": "execute_result"
    }
   ],
   "source": [
    "churn.shape"
   ]
  },
  {
   "cell_type": "code",
   "execution_count": 12,
   "id": "3d9d16ad",
   "metadata": {},
   "outputs": [
    {
     "data": {
      "text/plain": [
       "Index(['customerID', 'gender', 'SeniorCitizen', 'Partner', 'Dependents',\n",
       "       'tenure', 'PhoneService', 'MultipleLines', 'InternetService',\n",
       "       'OnlineSecurity', 'OnlineBackup', 'DeviceProtection', 'TechSupport',\n",
       "       'StreamingTV', 'StreamingMovies', 'Contract', 'PaperlessBilling',\n",
       "       'PaymentMethod', 'MonthlyCharges', 'TotalCharges', 'Churn'],\n",
       "      dtype='object')"
      ]
     },
     "execution_count": 12,
     "metadata": {},
     "output_type": "execute_result"
    }
   ],
   "source": [
    "churn.columns"
   ]
  },
  {
   "cell_type": "markdown",
   "id": "9c370c37",
   "metadata": {},
   "source": [
    "1) Display basic information about the dataset."
   ]
  },
  {
   "cell_type": "code",
   "execution_count": 13,
   "id": "2b453ba3",
   "metadata": {},
   "outputs": [
    {
     "name": "stdout",
     "output_type": "stream",
     "text": [
      "<class 'pandas.core.frame.DataFrame'>\n",
      "RangeIndex: 7043 entries, 0 to 7042\n",
      "Data columns (total 21 columns):\n",
      " #   Column            Non-Null Count  Dtype  \n",
      "---  ------            --------------  -----  \n",
      " 0   customerID        7043 non-null   object \n",
      " 1   gender            7043 non-null   object \n",
      " 2   SeniorCitizen     7043 non-null   int64  \n",
      " 3   Partner           7043 non-null   object \n",
      " 4   Dependents        7043 non-null   object \n",
      " 5   tenure            7043 non-null   int64  \n",
      " 6   PhoneService      7043 non-null   object \n",
      " 7   MultipleLines     7043 non-null   object \n",
      " 8   InternetService   7043 non-null   object \n",
      " 9   OnlineSecurity    7043 non-null   object \n",
      " 10  OnlineBackup      7043 non-null   object \n",
      " 11  DeviceProtection  7043 non-null   object \n",
      " 12  TechSupport       7043 non-null   object \n",
      " 13  StreamingTV       7043 non-null   object \n",
      " 14  StreamingMovies   7043 non-null   object \n",
      " 15  Contract          7043 non-null   object \n",
      " 16  PaperlessBilling  7043 non-null   object \n",
      " 17  PaymentMethod     7043 non-null   object \n",
      " 18  MonthlyCharges    7043 non-null   float64\n",
      " 19  TotalCharges      7043 non-null   object \n",
      " 20  Churn             7043 non-null   object \n",
      "dtypes: float64(1), int64(2), object(18)\n",
      "memory usage: 1.1+ MB\n"
     ]
    }
   ],
   "source": [
    "churn.info()"
   ]
  },
  {
   "cell_type": "code",
   "execution_count": 21,
   "id": "ed2c7635",
   "metadata": {},
   "outputs": [
    {
     "data": {
      "text/html": [
       "<div>\n",
       "<style scoped>\n",
       "    .dataframe tbody tr th:only-of-type {\n",
       "        vertical-align: middle;\n",
       "    }\n",
       "\n",
       "    .dataframe tbody tr th {\n",
       "        vertical-align: top;\n",
       "    }\n",
       "\n",
       "    .dataframe thead th {\n",
       "        text-align: right;\n",
       "    }\n",
       "</style>\n",
       "<table border=\"1\" class=\"dataframe\">\n",
       "  <thead>\n",
       "    <tr style=\"text-align: right;\">\n",
       "      <th></th>\n",
       "      <th>customerID</th>\n",
       "      <th>gender</th>\n",
       "      <th>SeniorCitizen</th>\n",
       "      <th>Partner</th>\n",
       "      <th>Dependents</th>\n",
       "      <th>tenure</th>\n",
       "      <th>PhoneService</th>\n",
       "      <th>MultipleLines</th>\n",
       "      <th>InternetService</th>\n",
       "      <th>OnlineSecurity</th>\n",
       "      <th>...</th>\n",
       "      <th>DeviceProtection</th>\n",
       "      <th>TechSupport</th>\n",
       "      <th>StreamingTV</th>\n",
       "      <th>StreamingMovies</th>\n",
       "      <th>Contract</th>\n",
       "      <th>PaperlessBilling</th>\n",
       "      <th>PaymentMethod</th>\n",
       "      <th>MonthlyCharges</th>\n",
       "      <th>TotalCharges</th>\n",
       "      <th>Churn</th>\n",
       "    </tr>\n",
       "  </thead>\n",
       "  <tbody>\n",
       "    <tr>\n",
       "      <th>0</th>\n",
       "      <td>7590-VHVEG</td>\n",
       "      <td>Female</td>\n",
       "      <td>0</td>\n",
       "      <td>Yes</td>\n",
       "      <td>No</td>\n",
       "      <td>1</td>\n",
       "      <td>No</td>\n",
       "      <td>No phone service</td>\n",
       "      <td>DSL</td>\n",
       "      <td>No</td>\n",
       "      <td>...</td>\n",
       "      <td>No</td>\n",
       "      <td>No</td>\n",
       "      <td>No</td>\n",
       "      <td>No</td>\n",
       "      <td>Month-to-month</td>\n",
       "      <td>Yes</td>\n",
       "      <td>Electronic check</td>\n",
       "      <td>29.85</td>\n",
       "      <td>29.85</td>\n",
       "      <td>No</td>\n",
       "    </tr>\n",
       "    <tr>\n",
       "      <th>1</th>\n",
       "      <td>5575-GNVDE</td>\n",
       "      <td>Male</td>\n",
       "      <td>0</td>\n",
       "      <td>No</td>\n",
       "      <td>No</td>\n",
       "      <td>34</td>\n",
       "      <td>Yes</td>\n",
       "      <td>No</td>\n",
       "      <td>DSL</td>\n",
       "      <td>Yes</td>\n",
       "      <td>...</td>\n",
       "      <td>Yes</td>\n",
       "      <td>No</td>\n",
       "      <td>No</td>\n",
       "      <td>No</td>\n",
       "      <td>One year</td>\n",
       "      <td>No</td>\n",
       "      <td>Mailed check</td>\n",
       "      <td>56.95</td>\n",
       "      <td>1889.5</td>\n",
       "      <td>No</td>\n",
       "    </tr>\n",
       "    <tr>\n",
       "      <th>2</th>\n",
       "      <td>3668-QPYBK</td>\n",
       "      <td>Male</td>\n",
       "      <td>0</td>\n",
       "      <td>No</td>\n",
       "      <td>No</td>\n",
       "      <td>2</td>\n",
       "      <td>Yes</td>\n",
       "      <td>No</td>\n",
       "      <td>DSL</td>\n",
       "      <td>Yes</td>\n",
       "      <td>...</td>\n",
       "      <td>No</td>\n",
       "      <td>No</td>\n",
       "      <td>No</td>\n",
       "      <td>No</td>\n",
       "      <td>Month-to-month</td>\n",
       "      <td>Yes</td>\n",
       "      <td>Mailed check</td>\n",
       "      <td>53.85</td>\n",
       "      <td>108.15</td>\n",
       "      <td>Yes</td>\n",
       "    </tr>\n",
       "    <tr>\n",
       "      <th>3</th>\n",
       "      <td>7795-CFOCW</td>\n",
       "      <td>Male</td>\n",
       "      <td>0</td>\n",
       "      <td>No</td>\n",
       "      <td>No</td>\n",
       "      <td>45</td>\n",
       "      <td>No</td>\n",
       "      <td>No phone service</td>\n",
       "      <td>DSL</td>\n",
       "      <td>Yes</td>\n",
       "      <td>...</td>\n",
       "      <td>Yes</td>\n",
       "      <td>Yes</td>\n",
       "      <td>No</td>\n",
       "      <td>No</td>\n",
       "      <td>One year</td>\n",
       "      <td>No</td>\n",
       "      <td>Bank transfer (automatic)</td>\n",
       "      <td>42.30</td>\n",
       "      <td>1840.75</td>\n",
       "      <td>No</td>\n",
       "    </tr>\n",
       "    <tr>\n",
       "      <th>4</th>\n",
       "      <td>9237-HQITU</td>\n",
       "      <td>Female</td>\n",
       "      <td>0</td>\n",
       "      <td>No</td>\n",
       "      <td>No</td>\n",
       "      <td>2</td>\n",
       "      <td>Yes</td>\n",
       "      <td>No</td>\n",
       "      <td>Fiber optic</td>\n",
       "      <td>No</td>\n",
       "      <td>...</td>\n",
       "      <td>No</td>\n",
       "      <td>No</td>\n",
       "      <td>No</td>\n",
       "      <td>No</td>\n",
       "      <td>Month-to-month</td>\n",
       "      <td>Yes</td>\n",
       "      <td>Electronic check</td>\n",
       "      <td>70.70</td>\n",
       "      <td>151.65</td>\n",
       "      <td>Yes</td>\n",
       "    </tr>\n",
       "  </tbody>\n",
       "</table>\n",
       "<p>5 rows × 21 columns</p>\n",
       "</div>"
      ],
      "text/plain": [
       "   customerID  gender  SeniorCitizen Partner Dependents  tenure PhoneService  \\\n",
       "0  7590-VHVEG  Female              0     Yes         No       1           No   \n",
       "1  5575-GNVDE    Male              0      No         No      34          Yes   \n",
       "2  3668-QPYBK    Male              0      No         No       2          Yes   \n",
       "3  7795-CFOCW    Male              0      No         No      45           No   \n",
       "4  9237-HQITU  Female              0      No         No       2          Yes   \n",
       "\n",
       "      MultipleLines InternetService OnlineSecurity  ... DeviceProtection  \\\n",
       "0  No phone service             DSL             No  ...               No   \n",
       "1                No             DSL            Yes  ...              Yes   \n",
       "2                No             DSL            Yes  ...               No   \n",
       "3  No phone service             DSL            Yes  ...              Yes   \n",
       "4                No     Fiber optic             No  ...               No   \n",
       "\n",
       "  TechSupport StreamingTV StreamingMovies        Contract PaperlessBilling  \\\n",
       "0          No          No              No  Month-to-month              Yes   \n",
       "1          No          No              No        One year               No   \n",
       "2          No          No              No  Month-to-month              Yes   \n",
       "3         Yes          No              No        One year               No   \n",
       "4          No          No              No  Month-to-month              Yes   \n",
       "\n",
       "               PaymentMethod MonthlyCharges  TotalCharges Churn  \n",
       "0           Electronic check          29.85         29.85    No  \n",
       "1               Mailed check          56.95        1889.5    No  \n",
       "2               Mailed check          53.85        108.15   Yes  \n",
       "3  Bank transfer (automatic)          42.30       1840.75    No  \n",
       "4           Electronic check          70.70        151.65   Yes  \n",
       "\n",
       "[5 rows x 21 columns]"
      ]
     },
     "execution_count": 21,
     "metadata": {},
     "output_type": "execute_result"
    }
   ],
   "source": [
    "churn.head()"
   ]
  },
  {
   "cell_type": "markdown",
   "id": "fc7194fe",
   "metadata": {},
   "source": [
    "2). Explore the variable 'churn' with a graph."
   ]
  },
  {
   "cell_type": "code",
   "execution_count": 15,
   "id": "f9240a5a",
   "metadata": {},
   "outputs": [
    {
     "data": {
      "text/plain": [
       "str"
      ]
     },
     "execution_count": 15,
     "metadata": {},
     "output_type": "execute_result"
    }
   ],
   "source": [
    "type('Churn')"
   ]
  },
  {
   "cell_type": "code",
   "execution_count": 19,
   "id": "0e790847",
   "metadata": {},
   "outputs": [
    {
     "data": {
      "text/plain": [
       "No     5174\n",
       "Yes    1869\n",
       "Name: Churn, dtype: int64"
      ]
     },
     "execution_count": 19,
     "metadata": {},
     "output_type": "execute_result"
    }
   ],
   "source": [
    "churn_counts = churn['Churn'].value_counts()\n",
    "churn_counts"
   ]
  },
  {
   "cell_type": "code",
   "execution_count": 24,
   "id": "157227f8",
   "metadata": {
    "scrolled": false
   },
   "outputs": [
    {
     "data": {
      "text/plain": [
       "<Figure size 800x500 with 0 Axes>"
      ]
     },
     "execution_count": 24,
     "metadata": {},
     "output_type": "execute_result"
    },
    {
     "data": {
      "text/plain": [
       "<Axes: >"
      ]
     },
     "execution_count": 24,
     "metadata": {},
     "output_type": "execute_result"
    },
    {
     "data": {
      "text/plain": [
       "Text(0.5, 1.0, 'Churn Distribution')"
      ]
     },
     "execution_count": 24,
     "metadata": {},
     "output_type": "execute_result"
    },
    {
     "data": {
      "text/plain": [
       "Text(0.5, 0, 'Churn Status')"
      ]
     },
     "execution_count": 24,
     "metadata": {},
     "output_type": "execute_result"
    },
    {
     "data": {
      "text/plain": [
       "Text(0, 0.5, 'Number of Customers')"
      ]
     },
     "execution_count": 24,
     "metadata": {},
     "output_type": "execute_result"
    },
    {
     "data": {
      "text/plain": [
       "([<matplotlib.axis.XTick at 0x130d3a010>,\n",
       "  <matplotlib.axis.XTick at 0x1418a0210>],\n",
       " [Text(0, 0, 'Not Churned'), Text(1, 0, 'Churned')])"
      ]
     },
     "execution_count": 24,
     "metadata": {},
     "output_type": "execute_result"
    },
    {
     "data": {
      "image/png": "[encoded data removed]",
      "text/plain": [
       "<Figure size 800x500 with 1 Axes>"
      ]
     },
     "metadata": {},
     "output_type": "display_data"
    }
   ],
   "source": [
    "plt.figure(figsize=(8, 5))  # Set the figure size (optional)\n",
    "churn_counts.plot(kind='bar', color=['red', 'green'])\n",
    "plt.title('Churn Distribution')\n",
    "plt.xlabel('Churn Status')\n",
    "plt.ylabel('Number of Customers')\n",
    "plt.xticks(ticks=[0, 1], labels=['Not Churned', 'Churned'], rotation=0)  # Set custom labels for the x-axis\n",
    "plt.show()"
   ]
  },
  {
   "cell_type": "markdown",
   "id": "d5a99249",
   "metadata": {},
   "source": [
    "3). We will run a logistic regression model that predicts 'Churn'. Prepare the data. Hint: consider using patsy as we have done in class practice."
   ]
  },
  {
   "cell_type": "markdown",
   "id": "5067791e",
   "metadata": {},
   "source": [
    "Use the following variables:\n",
    "'gender', 'SeniorCitizen', 'Partner', 'Dependents',\n",
    "       'tenure', 'MultipleLines', 'InternetService',\n",
    "      'MonthlyCharges'"
   ]
  },
  {
   "cell_type": "code",
   "execution_count": 26,
   "id": "6f0795f3",
   "metadata": {},
   "outputs": [],
   "source": [
    "import patsy\n",
    "\n",
    "y, X = patsy.dmatrices('Churn ~ gender + SeniorCitizen + Partner + Dependents\\\n",
    "                       + tenure + MultipleLines + InternetService + MonthlyCharges',\n",
    "                      data = churn,\n",
    "                      return_type = 'dataframe')"
   ]
  },
  {
   "cell_type": "code",
   "execution_count": 28,
   "id": "0999240e",
   "metadata": {},
   "outputs": [
    {
     "data": {
      "text/html": [
       "<div>\n",
       "<style scoped>\n",
       "    .dataframe tbody tr th:only-of-type {\n",
       "        vertical-align: middle;\n",
       "    }\n",
       "\n",
       "    .dataframe tbody tr th {\n",
       "        vertical-align: top;\n",
       "    }\n",
       "\n",
       "    .dataframe thead th {\n",
       "        text-align: right;\n",
       "    }\n",
       "</style>\n",
       "<table border=\"1\" class=\"dataframe\">\n",
       "  <thead>\n",
       "    <tr style=\"text-align: right;\">\n",
       "      <th></th>\n",
       "      <th>Intercept</th>\n",
       "      <th>gender[T.Male]</th>\n",
       "      <th>Partner[T.Yes]</th>\n",
       "      <th>Dependents[T.Yes]</th>\n",
       "      <th>MultipleLines[T.No phone service]</th>\n",
       "      <th>MultipleLines[T.Yes]</th>\n",
       "      <th>InternetService[T.Fiber optic]</th>\n",
       "      <th>InternetService[T.No]</th>\n",
       "      <th>SeniorCitizen</th>\n",
       "      <th>tenure</th>\n",
       "      <th>MonthlyCharges</th>\n",
       "    </tr>\n",
       "  </thead>\n",
       "  <tbody>\n",
       "    <tr>\n",
       "      <th>0</th>\n",
       "      <td>1.0</td>\n",
       "      <td>0.0</td>\n",
       "      <td>1.0</td>\n",
       "      <td>0.0</td>\n",
       "      <td>1.0</td>\n",
       "      <td>0.0</td>\n",
       "      <td>0.0</td>\n",
       "      <td>0.0</td>\n",
       "      <td>0.0</td>\n",
       "      <td>1.0</td>\n",
       "      <td>29.85</td>\n",
       "    </tr>\n",
       "    <tr>\n",
       "      <th>1</th>\n",
       "      <td>1.0</td>\n",
       "      <td>1.0</td>\n",
       "      <td>0.0</td>\n",
       "      <td>0.0</td>\n",
       "      <td>0.0</td>\n",
       "      <td>0.0</td>\n",
       "      <td>0.0</td>\n",
       "      <td>0.0</td>\n",
       "      <td>0.0</td>\n",
       "      <td>34.0</td>\n",
       "      <td>56.95</td>\n",
       "    </tr>\n",
       "    <tr>\n",
       "      <th>2</th>\n",
       "      <td>1.0</td>\n",
       "      <td>1.0</td>\n",
       "      <td>0.0</td>\n",
       "      <td>0.0</td>\n",
       "      <td>0.0</td>\n",
       "      <td>0.0</td>\n",
       "      <td>0.0</td>\n",
       "      <td>0.0</td>\n",
       "      <td>0.0</td>\n",
       "      <td>2.0</td>\n",
       "      <td>53.85</td>\n",
       "    </tr>\n",
       "    <tr>\n",
       "      <th>3</th>\n",
       "      <td>1.0</td>\n",
       "      <td>1.0</td>\n",
       "      <td>0.0</td>\n",
       "      <td>0.0</td>\n",
       "      <td>1.0</td>\n",
       "      <td>0.0</td>\n",
       "      <td>0.0</td>\n",
       "      <td>0.0</td>\n",
       "      <td>0.0</td>\n",
       "      <td>45.0</td>\n",
       "      <td>42.30</td>\n",
       "    </tr>\n",
       "    <tr>\n",
       "      <th>4</th>\n",
       "      <td>1.0</td>\n",
       "      <td>0.0</td>\n",
       "      <td>0.0</td>\n",
       "      <td>0.0</td>\n",
       "      <td>0.0</td>\n",
       "      <td>0.0</td>\n",
       "      <td>1.0</td>\n",
       "      <td>0.0</td>\n",
       "      <td>0.0</td>\n",
       "      <td>2.0</td>\n",
       "      <td>70.70</td>\n",
       "    </tr>\n",
       "    <tr>\n",
       "      <th>...</th>\n",
       "      <td>...</td>\n",
       "      <td>...</td>\n",
       "      <td>...</td>\n",
       "      <td>...</td>\n",
       "      <td>...</td>\n",
       "      <td>...</td>\n",
       "      <td>...</td>\n",
       "      <td>...</td>\n",
       "      <td>...</td>\n",
       "      <td>...</td>\n",
       "      <td>...</td>\n",
       "    </tr>\n",
       "    <tr>\n",
       "      <th>7038</th>\n",
       "      <td>1.0</td>\n",
       "      <td>1.0</td>\n",
       "      <td>1.0</td>\n",
       "      <td>1.0</td>\n",
       "      <td>0.0</td>\n",
       "      <td>1.0</td>\n",
       "      <td>0.0</td>\n",
       "      <td>0.0</td>\n",
       "      <td>0.0</td>\n",
       "      <td>24.0</td>\n",
       "      <td>84.80</td>\n",
       "    </tr>\n",
       "    <tr>\n",
       "      <th>7039</th>\n",
       "      <td>1.0</td>\n",
       "      <td>0.0</td>\n",
       "      <td>1.0</td>\n",
       "      <td>1.0</td>\n",
       "      <td>0.0</td>\n",
       "      <td>1.0</td>\n",
       "      <td>1.0</td>\n",
       "      <td>0.0</td>\n",
       "      <td>0.0</td>\n",
       "      <td>72.0</td>\n",
       "      <td>103.20</td>\n",
       "    </tr>\n",
       "    <tr>\n",
       "      <th>7040</th>\n",
       "      <td>1.0</td>\n",
       "      <td>0.0</td>\n",
       "      <td>1.0</td>\n",
       "      <td>1.0</td>\n",
       "      <td>1.0</td>\n",
       "      <td>0.0</td>\n",
       "      <td>0.0</td>\n",
       "      <td>0.0</td>\n",
       "      <td>0.0</td>\n",
       "      <td>11.0</td>\n",
       "      <td>29.60</td>\n",
       "    </tr>\n",
       "    <tr>\n",
       "      <th>7041</th>\n",
       "      <td>1.0</td>\n",
       "      <td>1.0</td>\n",
       "      <td>1.0</td>\n",
       "      <td>0.0</td>\n",
       "      <td>0.0</td>\n",
       "      <td>1.0</td>\n",
       "      <td>1.0</td>\n",
       "      <td>0.0</td>\n",
       "      <td>1.0</td>\n",
       "      <td>4.0</td>\n",
       "      <td>74.40</td>\n",
       "    </tr>\n",
       "    <tr>\n",
       "      <th>7042</th>\n",
       "      <td>1.0</td>\n",
       "      <td>1.0</td>\n",
       "      <td>0.0</td>\n",
       "      <td>0.0</td>\n",
       "      <td>0.0</td>\n",
       "      <td>0.0</td>\n",
       "      <td>1.0</td>\n",
       "      <td>0.0</td>\n",
       "      <td>0.0</td>\n",
       "      <td>66.0</td>\n",
       "      <td>105.65</td>\n",
       "    </tr>\n",
       "  </tbody>\n",
       "</table>\n",
       "<p>7043 rows × 11 columns</p>\n",
       "</div>"
      ],
      "text/plain": [
       "      Intercept  gender[T.Male]  Partner[T.Yes]  Dependents[T.Yes]  \\\n",
       "0           1.0             0.0             1.0                0.0   \n",
       "1           1.0             1.0             0.0                0.0   \n",
       "2           1.0             1.0             0.0                0.0   \n",
       "3           1.0             1.0             0.0                0.0   \n",
       "4           1.0             0.0             0.0                0.0   \n",
       "...         ...             ...             ...                ...   \n",
       "7038        1.0             1.0             1.0                1.0   \n",
       "7039        1.0             0.0             1.0                1.0   \n",
       "7040        1.0             0.0             1.0                1.0   \n",
       "7041        1.0             1.0             1.0                0.0   \n",
       "7042        1.0             1.0             0.0                0.0   \n",
       "\n",
       "      MultipleLines[T.No phone service]  MultipleLines[T.Yes]  \\\n",
       "0                                   1.0                   0.0   \n",
       "1                                   0.0                   0.0   \n",
       "2                                   0.0                   0.0   \n",
       "3                                   1.0                   0.0   \n",
       "4                                   0.0                   0.0   \n",
       "...                                 ...                   ...   \n",
       "7038                                0.0                   1.0   \n",
       "7039                                0.0                   1.0   \n",
       "7040                                1.0                   0.0   \n",
       "7041                                0.0                   1.0   \n",
       "7042                                0.0                   0.0   \n",
       "\n",
       "      InternetService[T.Fiber optic]  InternetService[T.No]  SeniorCitizen  \\\n",
       "0                                0.0                    0.0            0.0   \n",
       "1                                0.0                    0.0            0.0   \n",
       "2                                0.0                    0.0            0.0   \n",
       "3                                0.0                    0.0            0.0   \n",
       "4                                1.0                    0.0            0.0   \n",
       "...                              ...                    ...            ...   \n",
       "7038                             0.0                    0.0            0.0   \n",
       "7039                             1.0                    0.0            0.0   \n",
       "7040                             0.0                    0.0            0.0   \n",
       "7041                             1.0                    0.0            1.0   \n",
       "7042                             1.0                    0.0            0.0   \n",
       "\n",
       "      tenure  MonthlyCharges  \n",
       "0        1.0           29.85  \n",
       "1       34.0           56.95  \n",
       "2        2.0           53.85  \n",
       "3       45.0           42.30  \n",
       "4        2.0           70.70  \n",
       "...      ...             ...  \n",
       "7038    24.0           84.80  \n",
       "7039    72.0          103.20  \n",
       "7040    11.0           29.60  \n",
       "7041     4.0           74.40  \n",
       "7042    66.0          105.65  \n",
       "\n",
       "[7043 rows x 11 columns]"
      ]
     },
     "execution_count": 28,
     "metadata": {},
     "output_type": "execute_result"
    }
   ],
   "source": [
    "X # After using patsy, it created a dummy variable for all the categorical variables by \n",
    "#using (n-1). and also adding Intercept to the columns."
   ]
  },
  {
   "cell_type": "code",
   "execution_count": 30,
   "id": "f3910fa2",
   "metadata": {},
   "outputs": [
    {
     "data": {
      "text/html": [
       "<div>\n",
       "<style scoped>\n",
       "    .dataframe tbody tr th:only-of-type {\n",
       "        vertical-align: middle;\n",
       "    }\n",
       "\n",
       "    .dataframe tbody tr th {\n",
       "        vertical-align: top;\n",
       "    }\n",
       "\n",
       "    .dataframe thead th {\n",
       "        text-align: right;\n",
       "    }\n",
       "</style>\n",
       "<table border=\"1\" class=\"dataframe\">\n",
       "  <thead>\n",
       "    <tr style=\"text-align: right;\">\n",
       "      <th></th>\n",
       "      <th>Churn[No]</th>\n",
       "      <th>Churn[Yes]</th>\n",
       "    </tr>\n",
       "  </thead>\n",
       "  <tbody>\n",
       "    <tr>\n",
       "      <th>0</th>\n",
       "      <td>1.0</td>\n",
       "      <td>0.0</td>\n",
       "    </tr>\n",
       "    <tr>\n",
       "      <th>1</th>\n",
       "      <td>1.0</td>\n",
       "      <td>0.0</td>\n",
       "    </tr>\n",
       "    <tr>\n",
       "      <th>2</th>\n",
       "      <td>0.0</td>\n",
       "      <td>1.0</td>\n",
       "    </tr>\n",
       "    <tr>\n",
       "      <th>3</th>\n",
       "      <td>1.0</td>\n",
       "      <td>0.0</td>\n",
       "    </tr>\n",
       "    <tr>\n",
       "      <th>4</th>\n",
       "      <td>0.0</td>\n",
       "      <td>1.0</td>\n",
       "    </tr>\n",
       "    <tr>\n",
       "      <th>...</th>\n",
       "      <td>...</td>\n",
       "      <td>...</td>\n",
       "    </tr>\n",
       "    <tr>\n",
       "      <th>7038</th>\n",
       "      <td>1.0</td>\n",
       "      <td>0.0</td>\n",
       "    </tr>\n",
       "    <tr>\n",
       "      <th>7039</th>\n",
       "      <td>1.0</td>\n",
       "      <td>0.0</td>\n",
       "    </tr>\n",
       "    <tr>\n",
       "      <th>7040</th>\n",
       "      <td>1.0</td>\n",
       "      <td>0.0</td>\n",
       "    </tr>\n",
       "    <tr>\n",
       "      <th>7041</th>\n",
       "      <td>0.0</td>\n",
       "      <td>1.0</td>\n",
       "    </tr>\n",
       "    <tr>\n",
       "      <th>7042</th>\n",
       "      <td>1.0</td>\n",
       "      <td>0.0</td>\n",
       "    </tr>\n",
       "  </tbody>\n",
       "</table>\n",
       "<p>7043 rows × 2 columns</p>\n",
       "</div>"
      ],
      "text/plain": [
       "      Churn[No]  Churn[Yes]\n",
       "0           1.0         0.0\n",
       "1           1.0         0.0\n",
       "2           0.0         1.0\n",
       "3           1.0         0.0\n",
       "4           0.0         1.0\n",
       "...         ...         ...\n",
       "7038        1.0         0.0\n",
       "7039        1.0         0.0\n",
       "7040        1.0         0.0\n",
       "7041        0.0         1.0\n",
       "7042        1.0         0.0\n",
       "\n",
       "[7043 rows x 2 columns]"
      ]
     },
     "execution_count": 30,
     "metadata": {},
     "output_type": "execute_result"
    }
   ],
   "source": [
    "y # there are two categories no and yes."
   ]
  },
  {
   "cell_type": "markdown",
   "id": "a598b06b",
   "metadata": {},
   "source": [
    "4). Fit the model. Hint: make sure you check y to include the correct dependent variable."
   ]
  },
  {
   "cell_type": "code",
   "execution_count": 31,
   "id": "ed8dd572",
   "metadata": {},
   "outputs": [
    {
     "name": "stdout",
     "output_type": "stream",
     "text": [
      "Optimization terminated successfully.\n",
      "         Current function value: 0.434579\n",
      "         Iterations 7\n"
     ]
    },
    {
     "data": {
      "text/html": [
       "<table class=\"simpletable\">\n",
       "<caption>Logit Regression Results</caption>\n",
       "<tr>\n",
       "  <th>Dep. Variable:</th>      <td>Churn[Yes]</td>    <th>  No. Observations:  </th>  <td>  7043</td> \n",
       "</tr>\n",
       "<tr>\n",
       "  <th>Model:</th>                 <td>Logit</td>      <th>  Df Residuals:      </th>  <td>  7032</td> \n",
       "</tr>\n",
       "<tr>\n",
       "  <th>Method:</th>                 <td>MLE</td>       <th>  Df Model:          </th>  <td>    10</td> \n",
       "</tr>\n",
       "<tr>\n",
       "  <th>Date:</th>            <td>Sun, 28 Apr 2024</td> <th>  Pseudo R-squ.:     </th>  <td>0.2489</td> \n",
       "</tr>\n",
       "<tr>\n",
       "  <th>Time:</th>                <td>23:04:46</td>     <th>  Log-Likelihood:    </th> <td> -3060.7</td>\n",
       "</tr>\n",
       "<tr>\n",
       "  <th>converged:</th>             <td>True</td>       <th>  LL-Null:           </th> <td> -4075.1</td>\n",
       "</tr>\n",
       "<tr>\n",
       "  <th>Covariance Type:</th>     <td>nonrobust</td>    <th>  LLR p-value:       </th>  <td> 0.000</td> \n",
       "</tr>\n",
       "</table>\n",
       "<table class=\"simpletable\">\n",
       "<tr>\n",
       "                  <td></td>                     <th>coef</th>     <th>std err</th>      <th>z</th>      <th>P>|z|</th>  <th>[0.025</th>    <th>0.975]</th>  \n",
       "</tr>\n",
       "<tr>\n",
       "  <th>Intercept</th>                         <td>   -0.6763</td> <td>    0.204</td> <td>   -3.318</td> <td> 0.001</td> <td>   -1.076</td> <td>   -0.277</td>\n",
       "</tr>\n",
       "<tr>\n",
       "  <th>gender[T.Male]</th>                    <td>   -0.0041</td> <td>    0.064</td> <td>   -0.064</td> <td> 0.949</td> <td>   -0.129</td> <td>    0.120</td>\n",
       "</tr>\n",
       "<tr>\n",
       "  <th>Partner[T.Yes]</th>                    <td>    0.0135</td> <td>    0.076</td> <td>    0.178</td> <td> 0.859</td> <td>   -0.135</td> <td>    0.162</td>\n",
       "</tr>\n",
       "<tr>\n",
       "  <th>Dependents[T.Yes]</th>                 <td>   -0.3004</td> <td>    0.087</td> <td>   -3.447</td> <td> 0.001</td> <td>   -0.471</td> <td>   -0.130</td>\n",
       "</tr>\n",
       "<tr>\n",
       "  <th>MultipleLines[T.No phone service]</th> <td>    0.6968</td> <td>    0.139</td> <td>    4.998</td> <td> 0.000</td> <td>    0.424</td> <td>    0.970</td>\n",
       "</tr>\n",
       "<tr>\n",
       "  <th>MultipleLines[T.Yes]</th>              <td>    0.3978</td> <td>    0.079</td> <td>    5.023</td> <td> 0.000</td> <td>    0.243</td> <td>    0.553</td>\n",
       "</tr>\n",
       "<tr>\n",
       "  <th>InternetService[T.Fiber optic]</th>    <td>    1.2820</td> <td>    0.125</td> <td>   10.228</td> <td> 0.000</td> <td>    1.036</td> <td>    1.528</td>\n",
       "</tr>\n",
       "<tr>\n",
       "  <th>InternetService[T.No]</th>             <td>   -0.8749</td> <td>    0.177</td> <td>   -4.932</td> <td> 0.000</td> <td>   -1.223</td> <td>   -0.527</td>\n",
       "</tr>\n",
       "<tr>\n",
       "  <th>SeniorCitizen</th>                     <td>    0.4008</td> <td>    0.083</td> <td>    4.832</td> <td> 0.000</td> <td>    0.238</td> <td>    0.563</td>\n",
       "</tr>\n",
       "<tr>\n",
       "  <th>tenure</th>                            <td>   -0.0495</td> <td>    0.002</td> <td>  -24.765</td> <td> 0.000</td> <td>   -0.053</td> <td>   -0.046</td>\n",
       "</tr>\n",
       "<tr>\n",
       "  <th>MonthlyCharges</th>                    <td>    0.0030</td> <td>    0.004</td> <td>    0.844</td> <td> 0.398</td> <td>   -0.004</td> <td>    0.010</td>\n",
       "</tr>\n",
       "</table>"
      ],
      "text/latex": [
       "\\begin{center}\n",
       "\\begin{tabular}{lclc}\n",
       "\\toprule\n",
       "\\textbf{Dep. Variable:}                    &    Churn[Yes]    & \\textbf{  No. Observations:  } &     7043    \\\\\n",
       "\\textbf{Model:}                            &      Logit       & \\textbf{  Df Residuals:      } &     7032    \\\\\n",
       "\\textbf{Method:}                           &       MLE        & \\textbf{  Df Model:          } &       10    \\\\\n",
       "\\textbf{Date:}                             & Sun, 28 Apr 2024 & \\textbf{  Pseudo R-squ.:     } &   0.2489    \\\\\n",
       "\\textbf{Time:}                             &     23:04:46     & \\textbf{  Log-Likelihood:    } &   -3060.7   \\\\\n",
       "\\textbf{converged:}                        &       True       & \\textbf{  LL-Null:           } &   -4075.1   \\\\\n",
       "\\textbf{Covariance Type:}                  &    nonrobust     & \\textbf{  LLR p-value:       } &    0.000    \\\\\n",
       "\\bottomrule\n",
       "\\end{tabular}\n",
       "\\begin{tabular}{lcccccc}\n",
       "                                           & \\textbf{coef} & \\textbf{std err} & \\textbf{z} & \\textbf{P$> |$z$|$} & \\textbf{[0.025} & \\textbf{0.975]}  \\\\\n",
       "\\midrule\n",
       "\\textbf{Intercept}                         &      -0.6763  &        0.204     &    -3.318  &         0.001        &       -1.076    &       -0.277     \\\\\n",
       "\\textbf{gender[T.Male]}                    &      -0.0041  &        0.064     &    -0.064  &         0.949        &       -0.129    &        0.120     \\\\\n",
       "\\textbf{Partner[T.Yes]}                    &       0.0135  &        0.076     &     0.178  &         0.859        &       -0.135    &        0.162     \\\\\n",
       "\\textbf{Dependents[T.Yes]}                 &      -0.3004  &        0.087     &    -3.447  &         0.001        &       -0.471    &       -0.130     \\\\\n",
       "\\textbf{MultipleLines[T.No phone service]} &       0.6968  &        0.139     &     4.998  &         0.000        &        0.424    &        0.970     \\\\\n",
       "\\textbf{MultipleLines[T.Yes]}              &       0.3978  &        0.079     &     5.023  &         0.000        &        0.243    &        0.553     \\\\\n",
       "\\textbf{InternetService[T.Fiber optic]}    &       1.2820  &        0.125     &    10.228  &         0.000        &        1.036    &        1.528     \\\\\n",
       "\\textbf{InternetService[T.No]}             &      -0.8749  &        0.177     &    -4.932  &         0.000        &       -1.223    &       -0.527     \\\\\n",
       "\\textbf{SeniorCitizen}                     &       0.4008  &        0.083     &     4.832  &         0.000        &        0.238    &        0.563     \\\\\n",
       "\\textbf{tenure}                            &      -0.0495  &        0.002     &   -24.765  &         0.000        &       -0.053    &       -0.046     \\\\\n",
       "\\textbf{MonthlyCharges}                    &       0.0030  &        0.004     &     0.844  &         0.398        &       -0.004    &        0.010     \\\\\n",
       "\\bottomrule\n",
       "\\end{tabular}\n",
       "%\\caption{Logit Regression Results}\n",
       "\\end{center}"
      ],
      "text/plain": [
       "<class 'statsmodels.iolib.summary.Summary'>\n",
       "\"\"\"\n",
       "                           Logit Regression Results                           \n",
       "==============================================================================\n",
       "Dep. Variable:             Churn[Yes]   No. Observations:                 7043\n",
       "Model:                          Logit   Df Residuals:                     7032\n",
       "Method:                           MLE   Df Model:                           10\n",
       "Date:                Sun, 28 Apr 2024   Pseudo R-squ.:                  0.2489\n",
       "Time:                        23:04:46   Log-Likelihood:                -3060.7\n",
       "converged:                       True   LL-Null:                       -4075.1\n",
       "Covariance Type:            nonrobust   LLR p-value:                     0.000\n",
       "=====================================================================================================\n",
       "                                        coef    std err          z      P>|z|      [0.025      0.975]\n",
       "-----------------------------------------------------------------------------------------------------\n",
       "Intercept                            -0.6763      0.204     -3.318      0.001      -1.076      -0.277\n",
       "gender[T.Male]                       -0.0041      0.064     -0.064      0.949      -0.129       0.120\n",
       "Partner[T.Yes]                        0.0135      0.076      0.178      0.859      -0.135       0.162\n",
       "Dependents[T.Yes]                    -0.3004      0.087     -3.447      0.001      -0.471      -0.130\n",
       "MultipleLines[T.No phone service]     0.6968      0.139      4.998      0.000       0.424       0.970\n",
       "MultipleLines[T.Yes]                  0.3978      0.079      5.023      0.000       0.243       0.553\n",
       "InternetService[T.Fiber optic]        1.2820      0.125     10.228      0.000       1.036       1.528\n",
       "InternetService[T.No]                -0.8749      0.177     -4.932      0.000      -1.223      -0.527\n",
       "SeniorCitizen                         0.4008      0.083      4.832      0.000       0.238       0.563\n",
       "tenure                               -0.0495      0.002    -24.765      0.000      -0.053      -0.046\n",
       "MonthlyCharges                        0.0030      0.004      0.844      0.398      -0.004       0.010\n",
       "=====================================================================================================\n",
       "\"\"\""
      ]
     },
     "execution_count": 31,
     "metadata": {},
     "output_type": "execute_result"
    }
   ],
   "source": [
    "import statsmodels.api as sm\n",
    "logit_model_1 = sm.Logit(y['Churn[Yes]'], X)\n",
    "logit_res_1 =  logit_model_1.fit()\n",
    "logit_res_1.summary()"
   ]
  },
  {
   "cell_type": "markdown",
   "id": "05bef565",
   "metadata": {},
   "source": [
    "5). Make the predictions for probabilities and classify (using 0.5 cut-off)."
   ]
  },
  {
   "cell_type": "code",
   "execution_count": 33,
   "id": "b67a7a7a",
   "metadata": {},
   "outputs": [
    {
     "data": {
      "text/plain": [
       "0       0.518263\n",
       "1       0.100215\n",
       "2       0.349866\n",
       "3       0.110452\n",
       "4       0.671830\n",
       "          ...   \n",
       "7038    0.181502\n",
       "7039    0.072958\n",
       "7040    0.326683\n",
       "7041    0.807911\n",
       "7042    0.086851\n",
       "Length: 7043, dtype: float64"
      ]
     },
     "execution_count": 33,
     "metadata": {},
     "output_type": "execute_result"
    }
   ],
   "source": [
    "# Make predictions for the dataset\n",
    "predicted_p = logit_res_1.predict(X)\n",
    "predicted_p"
   ]
  },
  {
   "cell_type": "code",
   "execution_count": 34,
   "id": "3020e407",
   "metadata": {},
   "outputs": [
    {
     "data": {
      "text/plain": [
       "0       1\n",
       "1       0\n",
       "2       0\n",
       "3       0\n",
       "4       1\n",
       "       ..\n",
       "7037    0\n",
       "7038    0\n",
       "7039    0\n",
       "7040    0\n",
       "7041    1\n",
       "Length: 7042, dtype: int64"
      ]
     },
     "execution_count": 34,
     "metadata": {},
     "output_type": "execute_result"
    }
   ],
   "source": [
    "# Classification\n",
    "predicted_classes = (predicted_p >= 0.5).astype(int)\n",
    "predicted_classes[:7042]"
   ]
  },
  {
   "cell_type": "markdown",
   "id": "114d6c76",
   "metadata": {},
   "source": [
    "6). Calculate the accuracy rate."
   ]
  },
  {
   "cell_type": "code",
   "execution_count": 35,
   "id": "2f0d8310",
   "metadata": {},
   "outputs": [
    {
     "name": "stdout",
     "output_type": "stream",
     "text": [
      "0.7959676274314923\n"
     ]
    }
   ],
   "source": [
    "from sklearn.metrics import accuracy_score\n",
    "\n",
    "accuracy = accuracy_score(y['Churn[Yes]'], predicted_classes)\n",
    "print(accuracy)"
   ]
  },
  {
   "cell_type": "code",
   "execution_count": 37,
   "id": "ffc884bd",
   "metadata": {},
   "outputs": [
    {
     "name": "stdout",
     "output_type": "stream",
     "text": [
      "Accuracy: 0.7959676274314923\n",
      "Confusion Matrix: [[4678  496]\n",
      " [ 941  928]]\n",
      "Classification Report:               precision    recall  f1-score   support\n",
      "\n",
      "         0.0       0.83      0.90      0.87      5174\n",
      "         1.0       0.65      0.50      0.56      1869\n",
      "\n",
      "    accuracy                           0.80      7043\n",
      "   macro avg       0.74      0.70      0.72      7043\n",
      "weighted avg       0.78      0.80      0.79      7043\n",
      "\n"
     ]
    }
   ],
   "source": [
    "from sklearn.metrics import accuracy_score, classification_report, confusion_matrix\n",
    "\n",
    "# Assuming 'predicted_classes' is defined elsewhere and 'df' is your DataFrame\n",
    "# Make sure to replace 'df' and 'predicted_classes' with your actual DataFrame and predictions variable names\n",
    "\n",
    "# Calculate accuracy\n",
    "accuracy_churn = accuracy_score(y['Churn[Yes]'], predicted_classes)\n",
    "\n",
    "# Generate confusion matrix\n",
    "confusion_matrix_churn = confusion_matrix(y['Churn[Yes]'], predicted_classes)\n",
    "\n",
    "# Generate classification report\n",
    "classification_report_churn = classification_report(y['Churn[Yes]'], predicted_classes)\n",
    "\n",
    "# Optionally, print or use these metrics as needed\n",
    "print(\"Accuracy:\", accuracy_churn)\n",
    "print(\"Confusion Matrix:\", confusion_matrix_churn)\n",
    "print(\"Classification Report:\", classification_report_churn)\n"
   ]
  },
  {
   "cell_type": "markdown",
   "id": "4abaabd9",
   "metadata": {},
   "source": [
    "7) Create the confusion matrix"
   ]
  },
  {
   "cell_type": "code",
   "execution_count": 39,
   "id": "1766d0b8",
   "metadata": {},
   "outputs": [
    {
     "name": "stdout",
     "output_type": "stream",
     "text": [
      "Confusion Matrix:\n",
      "[[4678  496]\n",
      " [ 941  928]]\n"
     ]
    }
   ],
   "source": [
    "from sklearn.metrics import confusion_matrix\n",
    "\n",
    "# Assuming 'y' is your DataFrame or Series containing the target variable and\n",
    "# 'predicted_classes' contains your model's predictions\n",
    "\n",
    "confusion_matrix_result = confusion_matrix(y['Churn[Yes]'], predicted_classes)\n",
    "\n",
    "# Optionally, print the confusion matrix\n",
    "print(\"Confusion Matrix:\")\n",
    "print(confusion_matrix_result)\n"
   ]
  },
  {
   "cell_type": "code",
   "execution_count": 46,
   "id": "7fac600c",
   "metadata": {},
   "outputs": [
    {
     "data": {
      "image/png": "[encoded data removed]",
      "text/plain": [
       "<Figure size 800x600 with 2 Axes>"
      ]
     },
     "metadata": {},
     "output_type": "display_data"
    }
   ],
   "source": [
    "import numpy as np\n",
    "import matplotlib.pyplot as plt\n",
    "\n",
    "def plot_confusion_matrix(cm, classes,\n",
    "                          title='Confusion Matrix',\n",
    "                          cmap=plt.cm.Blues):\n",
    "    \"\"\"\n",
    "    This function prints and plots the confusion matrix with annotations.\n",
    "    \"\"\"\n",
    "    plt.figure(figsize=(8, 6))  # Set the figure size for better readability\n",
    "    plt.imshow(cm, interpolation='nearest', cmap=cmap)\n",
    "    plt.title(title)\n",
    "    plt.colorbar()\n",
    "    tick_marks = np.arange(len(classes))\n",
    "    plt.xticks(tick_marks, classes, rotation=45)\n",
    "    plt.yticks(tick_marks, classes)\n",
    "\n",
    "    # Adding text annotations for better clarity on numbers\n",
    "    thresh = cm.max() / 2.\n",
    "    for i, j in np.ndindex(cm.shape):\n",
    "        plt.text(j, i, format(cm[i, j], 'd'),\n",
    "                 horizontalalignment=\"center\",\n",
    "                 color=\"white\" if cm[i, j] > thresh else \"black\")\n",
    "\n",
    "    plt.ylabel('True label')\n",
    "    plt.xlabel('Predicted label')\n",
    "    plt.tight_layout()\n",
    "\n",
    "# Define the original confusion matrix\n",
    "confusion_matrix_result = np.array([[4678, 496],\n",
    "                                    [941, 928]])\n",
    "\n",
    "# Class names\n",
    "class_names = ['Not Churned', 'Churned']\n",
    "\n",
    "# Plot the confusion matrix using the function\n",
    "plot_confusion_matrix(cm=confusion_matrix_result, classes=class_names)\n",
    "plt.show()\n"
   ]
  },
  {
   "cell_type": "code",
   "execution_count": 40,
   "id": "58c2630a",
   "metadata": {},
   "outputs": [
    {
     "name": "stdout",
     "output_type": "stream",
     "text": [
      "0.49652220438737293 0.904136064940085\n"
     ]
    }
   ],
   "source": [
    "# The proportion of all positives that are correctly classified\n",
    "sensitivity = 928/(941 + 928)\n",
    "specificity = 4678/(4678 + 496)\n",
    "print(sensitivity, specificity)\n"
   ]
  },
  {
   "cell_type": "markdown",
   "id": "926b15c7",
   "metadata": {},
   "source": [
    "8) Create the ROC curve"
   ]
  },
  {
   "cell_type": "code",
   "execution_count": 19,
   "id": "07c39f8f",
   "metadata": {
    "scrolled": true
   },
   "outputs": [
    {
     "data": {
      "text/plain": [
       "<Figure size 432x288 with 0 Axes>"
      ]
     },
     "execution_count": 19,
     "metadata": {},
     "output_type": "execute_result"
    },
    {
     "data": {
      "text/plain": [
       "[<matplotlib.lines.Line2D at 0x1b1ca4787f0>]"
      ]
     },
     "execution_count": 19,
     "metadata": {},
     "output_type": "execute_result"
    },
    {
     "data": {
      "text/plain": [
       "[<matplotlib.lines.Line2D at 0x1b1ca478c40>]"
      ]
     },
     "execution_count": 19,
     "metadata": {},
     "output_type": "execute_result"
    },
    {
     "data": {
      "text/plain": [
       "(0.0, 1.0)"
      ]
     },
     "execution_count": 19,
     "metadata": {},
     "output_type": "execute_result"
    },
    {
     "data": {
      "text/plain": [
       "(0.0, 1.05)"
      ]
     },
     "execution_count": 19,
     "metadata": {},
     "output_type": "execute_result"
    },
    {
     "data": {
      "text/plain": [
       "Text(0.5, 0, 'False Positive Rate - 1-Specificity')"
      ]
     },
     "execution_count": 19,
     "metadata": {},
     "output_type": "execute_result"
    },
    {
     "data": {
      "text/plain": [
       "Text(0, 0.5, 'True Positive Rate - Sensitivity')"
      ]
     },
     "execution_count": 19,
     "metadata": {},
     "output_type": "execute_result"
    },
    {
     "data": {
      "text/plain": [
       "Text(0.5, 1.0, 'Receiver Operating Characteristic (ROC) Curve')"
      ]
     },
     "execution_count": 19,
     "metadata": {},
     "output_type": "execute_result"
    },
    {
     "data": {
      "text/plain": [
       "<matplotlib.legend.Legend at 0x1b1ca478e50>"
      ]
     },
     "execution_count": 19,
     "metadata": {},
     "output_type": "execute_result"
    },
    {
     "data": {
      "image/png": "[encoded data removed]",
      "text/plain": [
       "<Figure size 432x288 with 1 Axes>"
      ]
     },
     "metadata": {
      "needs_background": "light"
     },
     "output_type": "display_data"
    }
   ],
   "source": [
    "from sklearn.metrics import roc_curve, auc\n",
    "import matplotlib.pyplot as plt\n",
    "fpr, tpr, thresholds = roc_curve(y['Churn[Yes]'], predicted_p)\n",
    "roc_auc = auc(fpr, tpr)\n",
    "\n",
    "# Plot ROC curve\n",
    "plt.figure()\n",
    "plt.plot(fpr, tpr, color='darkorange', label='ROC curve (area = %0.2f)' % roc_auc)\n",
    "plt.plot([0, 1], [0, 1], color='navy', linestyle='--')\n",
    "plt.xlim([0.0, 1.0])\n",
    "plt.ylim([0.0, 1.05])\n",
    "plt.xlabel('False Positive Rate - 1-Specificity')\n",
    "plt.ylabel('True Positive Rate - Sensitivity')\n",
    "plt.title('Receiver Operating Characteristic (ROC) Curve')\n",
    "plt.legend(loc=\"lower right\")\n",
    "plt.show()\n"
   ]
  }
 ],
 "metadata": {
  "kernelspec": {
   "display_name": "Python 3 (ipykernel)",
   "language": "python",
   "name": "python3"
  },
  "language_info": {
   "codemirror_mode": {
    "name": "ipython",
    "version": 3
   },
   "file_extension": ".py",
   "mimetype": "text/x-python",
   "name": "python",
   "nbconvert_exporter": "python",
   "pygments_lexer": "ipython3",
   "version": "3.11.5"
  }
 },
 "nbformat": 4,
 "nbformat_minor": 5
}
