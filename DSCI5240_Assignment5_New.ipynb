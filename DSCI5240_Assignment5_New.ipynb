{
 "cells": [
  {
   "cell_type": "markdown",
   "id": "7108d478",
   "metadata": {
    "id": "7108d478"
   },
   "source": [
    "### Assignment 5 - Multiple-category classification and resampling"
   ]
  },
  {
   "cell_type": "code",
   "execution_count": 2,
   "id": "bdf76d52",
   "metadata": {
    "id": "bdf76d52"
   },
   "outputs": [],
   "source": [
    "# This code appears in every demonstration Notebook.\n",
    "# By default, when you run each cell, only the last output of the codes will show.\n",
    "# This code makes all outputs of a cell show.\n",
    "from IPython.core.interactiveshell import InteractiveShell\n",
    "InteractiveShell.ast_node_interactivity = \"all\""
   ]
  },
  {
   "cell_type": "markdown",
   "id": "e5e823a5",
   "metadata": {
    "id": "e5e823a5"
   },
   "source": [
    "In this assignment, we examine a dataset of car crashes.<br>\n",
    "It shows information about each traffic crash on city streets within the City of Chicago limits and under the jurisdiction of Chicago Police Department (CPD).\n",
    "About half of all crash reports, mostly minor crashes, are self-reported at the police district by the driver(s) involved and the other half are recorded at the scene by the police officer responding to the crash. Many of the crash parameters, including street condition data, weather condition, and posted speed limits, are recorded by the reporting officer based on best available information at the time.<br>\n",
    "\n",
    "We will use the dataset to classify the severity of accidents. The target variable is 'MOST_SEVERE_INJURY'. Most variable names are self explanatory.\n",
    "\n",
    "I will do most data preparation because we did not learn the coding in class. The point is not the coding, but the way I approach the data and the problems.\n",
    "\n"
   ]
  },
  {
   "cell_type": "markdown",
   "id": "ac71c155",
   "metadata": {
    "id": "ac71c155"
   },
   "source": [
    "1. Import the libraries"
   ]
  },
  {
   "cell_type": "code",
   "execution_count": 1,
   "id": "1a6afeaa",
   "metadata": {
    "id": "1a6afeaa"
   },
   "outputs": [],
   "source": [
    "import pandas as pd\n",
    "import statsmodels.api as sm"
   ]
  },
  {
   "cell_type": "markdown",
   "id": "9c370c37",
   "metadata": {
    "id": "9c370c37"
   },
   "source": [
    "2. Read in the dataset and display basic information about the dataset."
   ]
  },
  {
   "cell_type": "code",
   "execution_count": 2,
   "id": "2b453ba3",
   "metadata": {
    "colab": {
     "base_uri": "https://localhost:8080/",
     "height": 377
    },
    "id": "2b453ba3",
    "outputId": "400b090d-427f-4fe0-f043-10ca5ccb0f7a",
    "scrolled": true
   },
   "outputs": [
    {
     "data": {
      "text/html": [
       "<div>\n",
       "<style scoped>\n",
       "    .dataframe tbody tr th:only-of-type {\n",
       "        vertical-align: middle;\n",
       "    }\n",
       "\n",
       "    .dataframe tbody tr th {\n",
       "        vertical-align: top;\n",
       "    }\n",
       "\n",
       "    .dataframe thead th {\n",
       "        text-align: right;\n",
       "    }\n",
       "</style>\n",
       "<table border=\"1\" class=\"dataframe\">\n",
       "  <thead>\n",
       "    <tr style=\"text-align: right;\">\n",
       "      <th></th>\n",
       "      <th>CRASH_RECORD_ID</th>\n",
       "      <th>CRASH_DATE</th>\n",
       "      <th>POSTED_SPEED_LIMIT</th>\n",
       "      <th>TRAFFIC_CONTROL_DEVICE</th>\n",
       "      <th>DEVICE_CONDITION</th>\n",
       "      <th>WEATHER_CONDITION</th>\n",
       "      <th>LIGHTING_CONDITION</th>\n",
       "      <th>FIRST_CRASH_TYPE</th>\n",
       "      <th>TRAFFICWAY_TYPE</th>\n",
       "      <th>LANE_CNT</th>\n",
       "      <th>...</th>\n",
       "      <th>INJURIES_NON_INCAPACITATING</th>\n",
       "      <th>INJURIES_REPORTED_NOT_EVIDENT</th>\n",
       "      <th>INJURIES_NO_INDICATION</th>\n",
       "      <th>INJURIES_UNKNOWN</th>\n",
       "      <th>CRASH_HOUR</th>\n",
       "      <th>CRASH_DAY_OF_WEEK</th>\n",
       "      <th>CRASH_MONTH</th>\n",
       "      <th>LATITUDE</th>\n",
       "      <th>LONGITUDE</th>\n",
       "      <th>LOCATION</th>\n",
       "    </tr>\n",
       "  </thead>\n",
       "  <tbody>\n",
       "    <tr>\n",
       "      <th>0</th>\n",
       "      <td>23a79931ef555d54118f64dc9be2cf2dbf59636ce253f7...</td>\n",
       "      <td>9/5/2023 19:05</td>\n",
       "      <td>30</td>\n",
       "      <td>TRAFFIC SIGNAL</td>\n",
       "      <td>FUNCTIONING PROPERLY</td>\n",
       "      <td>CLEAR</td>\n",
       "      <td>DUSK</td>\n",
       "      <td>ANGLE</td>\n",
       "      <td>FIVE POINT, OR MORE</td>\n",
       "      <td>NaN</td>\n",
       "      <td>...</td>\n",
       "      <td>2.0</td>\n",
       "      <td>0.0</td>\n",
       "      <td>2.0</td>\n",
       "      <td>0.0</td>\n",
       "      <td>19</td>\n",
       "      <td>3</td>\n",
       "      <td>9</td>\n",
       "      <td>NaN</td>\n",
       "      <td>NaN</td>\n",
       "      <td>NaN</td>\n",
       "    </tr>\n",
       "    <tr>\n",
       "      <th>1</th>\n",
       "      <td>2675c13fd0f474d730a5b780968b3cafc7c12d7adb661f...</td>\n",
       "      <td>9/22/2023 18:45</td>\n",
       "      <td>50</td>\n",
       "      <td>NO CONTROLS</td>\n",
       "      <td>NO CONTROLS</td>\n",
       "      <td>CLEAR</td>\n",
       "      <td>DARKNESS, LIGHTED ROAD</td>\n",
       "      <td>REAR END</td>\n",
       "      <td>DIVIDED - W/MEDIAN BARRIER</td>\n",
       "      <td>NaN</td>\n",
       "      <td>...</td>\n",
       "      <td>0.0</td>\n",
       "      <td>0.0</td>\n",
       "      <td>2.0</td>\n",
       "      <td>0.0</td>\n",
       "      <td>18</td>\n",
       "      <td>6</td>\n",
       "      <td>9</td>\n",
       "      <td>NaN</td>\n",
       "      <td>NaN</td>\n",
       "      <td>NaN</td>\n",
       "    </tr>\n",
       "    <tr>\n",
       "      <th>2</th>\n",
       "      <td>5f54a59fcb087b12ae5b1acff96a3caf4f2d37e79f8db4...</td>\n",
       "      <td>7/29/2023 14:45</td>\n",
       "      <td>30</td>\n",
       "      <td>TRAFFIC SIGNAL</td>\n",
       "      <td>FUNCTIONING PROPERLY</td>\n",
       "      <td>CLEAR</td>\n",
       "      <td>DAYLIGHT</td>\n",
       "      <td>PARKED MOTOR VEHICLE</td>\n",
       "      <td>DIVIDED - W/MEDIAN (NOT RAISED)</td>\n",
       "      <td>NaN</td>\n",
       "      <td>...</td>\n",
       "      <td>0.0</td>\n",
       "      <td>0.0</td>\n",
       "      <td>1.0</td>\n",
       "      <td>0.0</td>\n",
       "      <td>14</td>\n",
       "      <td>7</td>\n",
       "      <td>7</td>\n",
       "      <td>41.85412</td>\n",
       "      <td>-87.665902</td>\n",
       "      <td>POINT (-87.665902342962 41.854120262952)</td>\n",
       "    </tr>\n",
       "    <tr>\n",
       "      <th>3</th>\n",
       "      <td>7ebf015016f83d09b321afd671a836d6b148330535d5df...</td>\n",
       "      <td>8/9/2023 23:00</td>\n",
       "      <td>30</td>\n",
       "      <td>NO CONTROLS</td>\n",
       "      <td>NO CONTROLS</td>\n",
       "      <td>CLEAR</td>\n",
       "      <td>DARKNESS, LIGHTED ROAD</td>\n",
       "      <td>SIDESWIPE SAME DIRECTION</td>\n",
       "      <td>NOT DIVIDED</td>\n",
       "      <td>NaN</td>\n",
       "      <td>...</td>\n",
       "      <td>0.0</td>\n",
       "      <td>0.0</td>\n",
       "      <td>2.0</td>\n",
       "      <td>0.0</td>\n",
       "      <td>23</td>\n",
       "      <td>4</td>\n",
       "      <td>8</td>\n",
       "      <td>NaN</td>\n",
       "      <td>NaN</td>\n",
       "      <td>NaN</td>\n",
       "    </tr>\n",
       "    <tr>\n",
       "      <th>4</th>\n",
       "      <td>6c1659069e9c6285a650e70d6f9b574ed5f64c12888479...</td>\n",
       "      <td>8/18/2023 12:50</td>\n",
       "      <td>15</td>\n",
       "      <td>OTHER</td>\n",
       "      <td>FUNCTIONING PROPERLY</td>\n",
       "      <td>CLEAR</td>\n",
       "      <td>DAYLIGHT</td>\n",
       "      <td>REAR END</td>\n",
       "      <td>OTHER</td>\n",
       "      <td>NaN</td>\n",
       "      <td>...</td>\n",
       "      <td>1.0</td>\n",
       "      <td>0.0</td>\n",
       "      <td>1.0</td>\n",
       "      <td>0.0</td>\n",
       "      <td>12</td>\n",
       "      <td>6</td>\n",
       "      <td>8</td>\n",
       "      <td>NaN</td>\n",
       "      <td>NaN</td>\n",
       "      <td>NaN</td>\n",
       "    </tr>\n",
       "  </tbody>\n",
       "</table>\n",
       "<p>5 rows × 41 columns</p>\n",
       "</div>"
      ],
      "text/plain": [
       "                                     CRASH_RECORD_ID       CRASH_DATE  \\\n",
       "0  23a79931ef555d54118f64dc9be2cf2dbf59636ce253f7...   9/5/2023 19:05   \n",
       "1  2675c13fd0f474d730a5b780968b3cafc7c12d7adb661f...  9/22/2023 18:45   \n",
       "2  5f54a59fcb087b12ae5b1acff96a3caf4f2d37e79f8db4...  7/29/2023 14:45   \n",
       "3  7ebf015016f83d09b321afd671a836d6b148330535d5df...   8/9/2023 23:00   \n",
       "4  6c1659069e9c6285a650e70d6f9b574ed5f64c12888479...  8/18/2023 12:50   \n",
       "\n",
       "   POSTED_SPEED_LIMIT TRAFFIC_CONTROL_DEVICE      DEVICE_CONDITION  \\\n",
       "0                  30         TRAFFIC SIGNAL  FUNCTIONING PROPERLY   \n",
       "1                  50            NO CONTROLS           NO CONTROLS   \n",
       "2                  30         TRAFFIC SIGNAL  FUNCTIONING PROPERLY   \n",
       "3                  30            NO CONTROLS           NO CONTROLS   \n",
       "4                  15                  OTHER  FUNCTIONING PROPERLY   \n",
       "\n",
       "  WEATHER_CONDITION      LIGHTING_CONDITION          FIRST_CRASH_TYPE  \\\n",
       "0             CLEAR                    DUSK                     ANGLE   \n",
       "1             CLEAR  DARKNESS, LIGHTED ROAD                  REAR END   \n",
       "2             CLEAR                DAYLIGHT      PARKED MOTOR VEHICLE   \n",
       "3             CLEAR  DARKNESS, LIGHTED ROAD  SIDESWIPE SAME DIRECTION   \n",
       "4             CLEAR                DAYLIGHT                  REAR END   \n",
       "\n",
       "                   TRAFFICWAY_TYPE  LANE_CNT  ... INJURIES_NON_INCAPACITATING  \\\n",
       "0              FIVE POINT, OR MORE       NaN  ...                         2.0   \n",
       "1       DIVIDED - W/MEDIAN BARRIER       NaN  ...                         0.0   \n",
       "2  DIVIDED - W/MEDIAN (NOT RAISED)       NaN  ...                         0.0   \n",
       "3                      NOT DIVIDED       NaN  ...                         0.0   \n",
       "4                            OTHER       NaN  ...                         1.0   \n",
       "\n",
       "  INJURIES_REPORTED_NOT_EVIDENT INJURIES_NO_INDICATION INJURIES_UNKNOWN  \\\n",
       "0                           0.0                    2.0              0.0   \n",
       "1                           0.0                    2.0              0.0   \n",
       "2                           0.0                    1.0              0.0   \n",
       "3                           0.0                    2.0              0.0   \n",
       "4                           0.0                    1.0              0.0   \n",
       "\n",
       "  CRASH_HOUR CRASH_DAY_OF_WEEK CRASH_MONTH  LATITUDE  LONGITUDE  \\\n",
       "0         19                 3           9       NaN        NaN   \n",
       "1         18                 6           9       NaN        NaN   \n",
       "2         14                 7           7  41.85412 -87.665902   \n",
       "3         23                 4           8       NaN        NaN   \n",
       "4         12                 6           8       NaN        NaN   \n",
       "\n",
       "                                   LOCATION  \n",
       "0                                       NaN  \n",
       "1                                       NaN  \n",
       "2  POINT (-87.665902342962 41.854120262952)  \n",
       "3                                       NaN  \n",
       "4                                       NaN  \n",
       "\n",
       "[5 rows x 41 columns]"
      ]
     },
     "execution_count": 2,
     "metadata": {},
     "output_type": "execute_result"
    }
   ],
   "source": [
    "crashes = pd.read_csv('Crashes-clean.csv')\n",
    "crashes.head()"
   ]
  },
  {
   "cell_type": "code",
   "execution_count": 6,
   "id": "d3f5daf0",
   "metadata": {},
   "outputs": [
    {
     "data": {
      "text/plain": [
       "(820587, 41)"
      ]
     },
     "execution_count": 6,
     "metadata": {},
     "output_type": "execute_result"
    }
   ],
   "source": [
    "crashes.shape"
   ]
  },
  {
   "cell_type": "markdown",
   "id": "fc7194fe",
   "metadata": {
    "id": "fc7194fe"
   },
   "source": [
    "3. Count the frequency distribution of the target variable 'MOST_SEVERE_INJURY'. Make a graph. What do you observe? What's the percentage of the majority category?"
   ]
  },
  {
   "cell_type": "code",
   "execution_count": 3,
   "id": "157227f8",
   "metadata": {
    "colab": {
     "base_uri": "https://localhost:8080/",
     "height": 774
    },
    "id": "157227f8",
    "outputId": "293d97bc-2419-4f07-dd17-533cc0076e7d",
    "scrolled": true
   },
   "outputs": [
    {
     "name": "stdout",
     "output_type": "stream",
     "text": [
      "NO INDICATION OF INJURY     0.862036\n",
      "NONINCAPACITATING INJURY    0.077793\n",
      "REPORTED, NOT EVIDENT       0.042151\n",
      "INCAPACITATING INJURY       0.016918\n",
      "FATAL                       0.001102\n",
      "Name: MOST_SEVERE_INJURY, dtype: float64\n"
     ]
    },
    {
     "data": {
      "text/plain": [
       "<Axes: >"
      ]
     },
     "execution_count": 3,
     "metadata": {},
     "output_type": "execute_result"
    },
    {
     "data": {
      "image/png": "[encoded data removed]",
      "text/plain": [
       "<Figure size 640x480 with 1 Axes>"
      ]
     },
     "metadata": {},
     "output_type": "display_data"
    }
   ],
   "source": [
    "val_counts = crashes['MOST_SEVERE_INJURY'].value_counts(normalize=True)\n",
    "print(val_counts)\n",
    "val_counts.plot(kind='bar')"
   ]
  },
  {
   "cell_type": "markdown",
   "id": "e6fd829f",
   "metadata": {
    "id": "e6fd829f"
   },
   "source": [
    "4. The variable 'DAMAGE' indicates the damage of a crash in terms of dollar amount, another measurement of crash outcome. We can check its relationship with ''MOST_SEVERE_INJURY' using cross-tabulation. How do you interpret the table?"
   ]
  },
  {
   "cell_type": "code",
   "execution_count": 4,
   "id": "78a72d97",
   "metadata": {
    "colab": {
     "base_uri": "https://localhost:8080/",
     "height": 238
    },
    "id": "78a72d97",
    "outputId": "ff8978c7-a11c-4957-fa62-e39381c2f011"
   },
   "outputs": [
    {
     "data": {
      "text/html": [
       "<div>\n",
       "<style scoped>\n",
       "    .dataframe tbody tr th:only-of-type {\n",
       "        vertical-align: middle;\n",
       "    }\n",
       "\n",
       "    .dataframe tbody tr th {\n",
       "        vertical-align: top;\n",
       "    }\n",
       "\n",
       "    .dataframe thead th {\n",
       "        text-align: right;\n",
       "    }\n",
       "</style>\n",
       "<table border=\"1\" class=\"dataframe\">\n",
       "  <thead>\n",
       "    <tr style=\"text-align: right;\">\n",
       "      <th>DAMAGE</th>\n",
       "      <th>$500 OR LESS</th>\n",
       "      <th>$501 - $1,500</th>\n",
       "      <th>OVER $1,500</th>\n",
       "    </tr>\n",
       "    <tr>\n",
       "      <th>MOST_SEVERE_INJURY</th>\n",
       "      <th></th>\n",
       "      <th></th>\n",
       "      <th></th>\n",
       "    </tr>\n",
       "  </thead>\n",
       "  <tbody>\n",
       "    <tr>\n",
       "      <th>FATAL</th>\n",
       "      <td>75</td>\n",
       "      <td>53</td>\n",
       "      <td>774</td>\n",
       "    </tr>\n",
       "    <tr>\n",
       "      <th>INCAPACITATING INJURY</th>\n",
       "      <td>2028</td>\n",
       "      <td>1400</td>\n",
       "      <td>10424</td>\n",
       "    </tr>\n",
       "    <tr>\n",
       "      <th>NO INDICATION OF INJURY</th>\n",
       "      <td>76623</td>\n",
       "      <td>202825</td>\n",
       "      <td>426375</td>\n",
       "    </tr>\n",
       "    <tr>\n",
       "      <th>NONINCAPACITATING INJURY</th>\n",
       "      <td>10070</td>\n",
       "      <td>7254</td>\n",
       "      <td>46372</td>\n",
       "    </tr>\n",
       "    <tr>\n",
       "      <th>REPORTED, NOT EVIDENT</th>\n",
       "      <td>4584</td>\n",
       "      <td>5319</td>\n",
       "      <td>24610</td>\n",
       "    </tr>\n",
       "  </tbody>\n",
       "</table>\n",
       "</div>"
      ],
      "text/plain": [
       "DAMAGE                    $500 OR LESS  $501 - $1,500  OVER $1,500\n",
       "MOST_SEVERE_INJURY                                                \n",
       "FATAL                               75             53          774\n",
       "INCAPACITATING INJURY             2028           1400        10424\n",
       "NO INDICATION OF INJURY          76623         202825       426375\n",
       "NONINCAPACITATING INJURY         10070           7254        46372\n",
       "REPORTED, NOT EVIDENT             4584           5319        24610"
      ]
     },
     "execution_count": 4,
     "metadata": {},
     "output_type": "execute_result"
    }
   ],
   "source": [
    "pd.crosstab(crashes['MOST_SEVERE_INJURY'],crashes['DAMAGE'])"
   ]
  },
  {
   "cell_type": "markdown",
   "id": "7bc60119",
   "metadata": {
    "id": "7bc60119"
   },
   "source": [
    "5. Next we explore variables that we may use to predict severity of crashes.<br>"
   ]
  },
  {
   "cell_type": "code",
   "execution_count": 5,
   "id": "c1ce5523",
   "metadata": {
    "colab": {
     "base_uri": "https://localhost:8080/"
    },
    "id": "c1ce5523",
    "outputId": "addac316-4024-4ee8-c903-20cac653c552",
    "scrolled": true
   },
   "outputs": [
    {
     "data": {
      "text/plain": [
       "Index(['CRASH_RECORD_ID', 'CRASH_DATE', 'POSTED_SPEED_LIMIT',\n",
       "       'TRAFFIC_CONTROL_DEVICE', 'DEVICE_CONDITION', 'WEATHER_CONDITION',\n",
       "       'LIGHTING_CONDITION', 'FIRST_CRASH_TYPE', 'TRAFFICWAY_TYPE', 'LANE_CNT',\n",
       "       'ALIGNMENT', 'ROADWAY_SURFACE_COND', 'ROAD_DEFECT', 'REPORT_TYPE',\n",
       "       'CRASH_TYPE', 'INTERSECTION_RELATED_I', 'NOT_RIGHT_OF_WAY_I',\n",
       "       'HIT_AND_RUN_I', 'DAMAGE', 'DATE_POLICE_NOTIFIED',\n",
       "       'PRIM_CONTRIBUTORY_CAUSE', 'SEC_CONTRIBUTORY_CAUSE', 'STREET_NO',\n",
       "       'STREET_DIRECTION', 'STREET_NAME', 'BEAT_OF_OCCURRENCE', 'NUM_UNITS',\n",
       "       'MOST_SEVERE_INJURY', 'INJURIES_TOTAL', 'INJURIES_FATAL',\n",
       "       'INJURIES_INCAPACITATING', 'INJURIES_NON_INCAPACITATING',\n",
       "       'INJURIES_REPORTED_NOT_EVIDENT', 'INJURIES_NO_INDICATION',\n",
       "       'INJURIES_UNKNOWN', 'CRASH_HOUR', 'CRASH_DAY_OF_WEEK', 'CRASH_MONTH',\n",
       "       'LATITUDE', 'LONGITUDE', 'LOCATION'],\n",
       "      dtype='object')"
      ]
     },
     "execution_count": 5,
     "metadata": {},
     "output_type": "execute_result"
    }
   ],
   "source": [
    "crashes.columns"
   ]
  },
  {
   "cell_type": "code",
   "execution_count": 6,
   "id": "029179a5",
   "metadata": {
    "colab": {
     "base_uri": "https://localhost:8080/"
    },
    "id": "029179a5",
    "outputId": "6723aee1-c1d3-46ad-9895-bc9e40fc07f8"
   },
   "outputs": [
    {
     "name": "stdout",
     "output_type": "stream",
     "text": [
      "POSTED_SPEED_LIMIT\n",
      "TRAFFIC_CONTROL_DEVICE\n",
      "DEVICE_CONDITION\n",
      "WEATHER_CONDITION\n",
      "LIGHTING_CONDITION\n",
      "FIRST_CRASH_TYPE\n",
      "TRAFFICWAY_TYPE\n",
      "LANE_CNT\n",
      "ALIGNMENT\n",
      "ROADWAY_SURFACE_COND\n",
      "ROAD_DEFECT\n",
      "REPORT_TYPE\n",
      "CRASH_TYPE\n",
      "INTERSECTION_RELATED_I\n",
      "NOT_RIGHT_OF_WAY_I\n",
      "HIT_AND_RUN_I\n"
     ]
    }
   ],
   "source": [
    "# First, let's examine variables starting from 'POSTED_SPEED_LIMIT' to 'HIT_AND_RUN_I'\n",
    "# We can use a loop to go through all of them.\n",
    "for i in range(2,18):\n",
    "    print(crashes.columns[i])\n",
    "    crashes_val_cnt = crashes[crashes.columns[i]].value_counts()\n",
    "    #print(crashes_val_cnt)"
   ]
  },
  {
   "cell_type": "markdown",
   "id": "e07bb26d",
   "metadata": {
    "id": "e07bb26d"
   },
   "source": [
    "5.1 About 'POSTED_SPEED_LIMIT'"
   ]
  },
  {
   "cell_type": "code",
   "execution_count": 7,
   "id": "d1e6e217",
   "metadata": {
    "id": "d1e6e217"
   },
   "outputs": [],
   "source": [
    "# Based on the results, we need to further clean and prepare the data.\n",
    "# First is 'POSTED_SPEED_LIMIT'. Based on our life knowledge, we probably never saw speed limit\n",
    "# of 1, 2, 3 or 26. We do not have further information, but it might be reasonable to transform\n",
    "# the irregular numbers to closest 5 or 10.\n",
    "# To do that, we can use apply() method with a lambda function.\n",
    "# The lambda function takes each value, divde it by 5, round the result and mulitply it by 5.\n",
    "# This is not the most efficient way, but easier to show the idea.\n",
    "\n",
    "crashes['POSTED_SPEED_LIMIT'] = crashes['POSTED_SPEED_LIMIT'].apply(lambda x: round(x/5)*5)"
   ]
  },
  {
   "cell_type": "markdown",
   "id": "ff46367f",
   "metadata": {
    "id": "ff46367f"
   },
   "source": [
    "5.2 About 'LANE_CNT'"
   ]
  },
  {
   "cell_type": "code",
   "execution_count": 9,
   "id": "e25ce447",
   "metadata": {
    "id": "e25ce447"
   },
   "outputs": [],
   "source": [
    "# The literal meaning seems to be the number of lanes involved in crashes.\n",
    "# However, many numbers we cannot explain, i.e., all those greater than 12.\n",
    "# It seems not possible to have so many lanes.\n",
    "# So, before we have more information about this variable, we will not use it."
   ]
  },
  {
   "cell_type": "markdown",
   "id": "01f6a2a1",
   "metadata": {
    "id": "01f6a2a1"
   },
   "source": [
    "5.3. About 'INTERSECTION_RELATED_I', 'NOT_RIGHT_OF_WAY_I', and 'HIT_AND_RUN_I'."
   ]
  },
  {
   "cell_type": "code",
   "execution_count": 10,
   "id": "4fb7a325",
   "metadata": {
    "id": "4fb7a325"
   },
   "outputs": [],
   "source": [
    "# These three variables have many missing values, more than half.\n",
    "# To maintain the data's power, we decide not to use these three variables."
   ]
  },
  {
   "cell_type": "markdown",
   "id": "f66c281c",
   "metadata": {
    "id": "f66c281c"
   },
   "source": [
    "5.4 About all other variables in this set."
   ]
  },
  {
   "cell_type": "code",
   "execution_count": 11,
   "id": "e8b354af",
   "metadata": {
    "id": "e8b354af"
   },
   "outputs": [],
   "source": [
    "# They are all categorical variables.\n",
    "# We will include them in our analysis."
   ]
  },
  {
   "cell_type": "markdown",
   "id": "68f2fa11",
   "metadata": {
    "id": "68f2fa11"
   },
   "source": [
    "6. Another set of variables are about time. There are three coded variables 'CRASH_HOUR', 'CRASH_DAY_OF_WEEK', and 'CRASH_MONTH', indicating the time features of crashes. For instance, if the crashes happens on 1pm 4/8/2024, the variables will be 'CRASH_HOUR'-13, 'CRASH_DAY_OF_WEEK'-1, and 'CRASH_MONTH'-4. These variables can help to capture time-related features that have impacts on car crashes. For instance, crashes may be more likely to happen during night time or rush hours.<br>\n",
    "\n",
    "I would like to add a variable 'Crash_Year' to control the yearly changes of car crashes and to show you how we can work with datetime variables."
   ]
  },
  {
   "cell_type": "code",
   "execution_count": 12,
   "id": "b81eae93",
   "metadata": {
    "id": "b81eae93"
   },
   "outputs": [],
   "source": [
    "# First, we will transform the 'CRASH_DATE' variable into Pandas Datetime datatype.\n",
    "crashes['CRASH_DATE'] = pd.to_datetime(crashes['CRASH_DATE'])\n",
    "\n",
    "# Then we can create a new variable using accessor dt.year\n",
    "crashes['Crash_Year'] = crashes['CRASH_DATE'].dt.year"
   ]
  },
  {
   "cell_type": "code",
   "execution_count": 14,
   "id": "e05da948",
   "metadata": {
    "colab": {
     "base_uri": "https://localhost:8080/"
    },
    "id": "e05da948",
    "outputId": "ab133358-85f3-4c18-a5e3-90792a7e4bdf"
   },
   "outputs": [
    {
     "data": {
      "text/plain": [
       "array([2023, 2019, 2022, 2020, 2021, 2018, 2016, 2017, 2015, 2024, 2013,\n",
       "       2014])"
      ]
     },
     "execution_count": 14,
     "metadata": {},
     "output_type": "execute_result"
    }
   ],
   "source": [
    "crashes['Crash_Year'].unique()"
   ]
  },
  {
   "cell_type": "markdown",
   "id": "d5a99249",
   "metadata": {
    "id": "d5a99249"
   },
   "source": [
    "7. The other variables include more details about the crash outcome and location information. We will not use them. The variable 'BEAT_OF_OCCURRENCE' shows to be numeric. Each number is referring to a patrol area of police. I think it might be a simplified indicator of locations. To use it, we need to transform it to a categorical variable."
   ]
  },
  {
   "cell_type": "code",
   "execution_count": 15,
   "id": "6d96fb3b",
   "metadata": {
    "id": "6d96fb3b"
   },
   "outputs": [],
   "source": [
    "crashes['BEAT_OF_OCCURRENCE'] = crashes['BEAT_OF_OCCURRENCE'].astype('category')"
   ]
  },
  {
   "cell_type": "markdown",
   "id": "d17781fa",
   "metadata": {
    "id": "d17781fa"
   },
   "source": [
    "8. One last step is to correctly specify categorical variables. Some variables were assigned as numeric values, but their inherent meaning is categorical. For instance, the day of the month, we cannot say that day 30 is greater than day 1. So, we need to change their datatype to category. These variables include 'POSTED_SPEED_LIMIT', 'CRASH_HOUR', 'CRASH_DAY_OF_WEEK', 'CRASH_MONTH', and 'Crash_Year'."
   ]
  },
  {
   "cell_type": "code",
   "execution_count": 16,
   "id": "519c383b",
   "metadata": {
    "id": "519c383b"
   },
   "outputs": [],
   "source": [
    "crashes['POSTED_SPEED_LIMIT'] = crashes['POSTED_SPEED_LIMIT'].astype('category')\n",
    "crashes['CRASH_HOUR'] = crashes['CRASH_HOUR'].astype('category')\n",
    "crashes['CRASH_DAY_OF_WEEK'] = crashes['CRASH_DAY_OF_WEEK'].astype('category')\n",
    "crashes['CRASH_MONTH'] = crashes['CRASH_MONTH'].astype('category')\n",
    "crashes['Crash_Year'] = crashes['Crash_Year'].astype('category')"
   ]
  },
  {
   "cell_type": "markdown",
   "id": "ba312477",
   "metadata": {
    "id": "ba312477"
   },
   "source": [
    "9. Next we select the variables we need for analysis. The variables we keep for analysis include:<br>\n",
    "'MOST_SEVERE_INJURY', 'POSTED_SPEED_LIMIT', 'TRAFFIC_CONTROL_DEVICE', 'DEVICE_CONDITION', 'WEATHER_CONDITION',        'LIGHTING_CONDITION', 'FIRST_CRASH_TYPE', 'TRAFFICWAY_TYPE', 'ALIGNMENT', 'ROADWAY_SURFACE_COND', 'ROAD_DEFECT', 'BEAT_OF_OCCURRENCE', 'CRASH_HOUR', 'CRASH_DAY_OF_WEEK', 'CRASH_MONTH', 'Crash_Year'<br>"
   ]
  },
  {
   "cell_type": "code",
   "execution_count": 17,
   "id": "7ripw1L5EmtE",
   "metadata": {
    "id": "7ripw1L5EmtE"
   },
   "outputs": [],
   "source": [
    "# prompt: Next we select the variables we need for analysis. The variables we keep for analysis include:\n",
    "# 'MOST_SEVERE_INJURY', 'POSTED_SPEED_LIMIT', 'TRAFFIC_CONTROL_DEVICE', 'DEVICE_CONDITION', 'WEATHER_CONDITION', 'LIGHTING_CONDITION', 'FIRST_CRASH_TYPE', 'TRAFFICWAY_TYPE', 'ALIGNMENT', 'ROADWAY_SURFACE_COND', 'ROAD_DEFECT', 'BEAT_OF_OCCURRENCE', 'CRASH_HOUR', 'CRASH_DAY_OF_WEEK', 'CRASH_MONTH', 'Crash_Ye\n",
    "\n",
    "df_selected_crashes = crashes[['MOST_SEVERE_INJURY', 'POSTED_SPEED_LIMIT', 'TRAFFIC_CONTROL_DEVICE', 'DEVICE_CONDITION', 'WEATHER_CONDITION', 'LIGHTING_CONDITION', 'FIRST_CRASH_TYPE', 'TRAFFICWAY_TYPE', 'ALIGNMENT', 'ROADWAY_SURFACE_COND', 'ROAD_DEFECT', 'BEAT_OF_OCCURRENCE', 'CRASH_HOUR', 'CRASH_DAY_OF_WEEK', 'CRASH_MONTH', 'Crash_Year']]\n"
   ]
  },
  {
   "cell_type": "markdown",
   "id": "9a01a027",
   "metadata": {
    "id": "9a01a027"
   },
   "source": [
    "For these variables, missing values only constitute a small percentage. So, we decide to drop them. Drop observations with missing values"
   ]
  },
  {
   "cell_type": "code",
   "execution_count": 18,
   "id": "6c3746be",
   "metadata": {
    "id": "6c3746be"
   },
   "outputs": [],
   "source": [
    "# prompt: For these variables, missing values only constitute a small percentage. So, we decide to drop them. Drop observations with missing values\n",
    "\n",
    "df_selected_crashes = df_selected_crashes.dropna()\n"
   ]
  },
  {
   "cell_type": "markdown",
   "id": "f466ab6a",
   "metadata": {
    "id": "f466ab6a"
   },
   "source": [
    "9. Next we split train and test datasets (Validation dataset approach)."
   ]
  },
  {
   "cell_type": "markdown",
   "id": "2dffa6f4",
   "metadata": {
    "id": "2dffa6f4"
   },
   "source": [
    "Prepare X and y."
   ]
  },
  {
   "cell_type": "code",
   "execution_count": 19,
   "id": "fbebc77a",
   "metadata": {
    "id": "fbebc77a"
   },
   "outputs": [],
   "source": [
    "# prompt: Prepare X and y.\n",
    "\n",
    "y = df_selected_crashes['MOST_SEVERE_INJURY']\n",
    "X = df_selected_crashes.drop('MOST_SEVERE_INJURY', axis=1)\n"
   ]
  },
  {
   "cell_type": "code",
   "execution_count": 20,
   "id": "73d6a64b",
   "metadata": {},
   "outputs": [
    {
     "data": {
      "text/plain": [
       "0       INCAPACITATING INJURY\n",
       "1     NO INDICATION OF INJURY\n",
       "2     NO INDICATION OF INJURY\n",
       "3     NO INDICATION OF INJURY\n",
       "4    NONINCAPACITATING INJURY\n",
       "Name: MOST_SEVERE_INJURY, dtype: object"
      ]
     },
     "execution_count": 20,
     "metadata": {},
     "output_type": "execute_result"
    }
   ],
   "source": [
    "y.head()"
   ]
  },
  {
   "cell_type": "markdown",
   "id": "UPz4BSL42aoT",
   "metadata": {
    "id": "UPz4BSL42aoT"
   },
   "source": [
    "# New Section"
   ]
  },
  {
   "cell_type": "code",
   "execution_count": 35,
   "id": "YOyhz-5twwJu",
   "metadata": {
    "colab": {
     "base_uri": "https://localhost:8080/"
    },
    "id": "YOyhz-5twwJu",
    "outputId": "c3bb54a8-6cf8-4b42-90b1-eec3efb6db93"
   },
   "outputs": [
    {
     "name": "stdout",
     "output_type": "stream",
     "text": [
      "   Intercept  POSTED_SPEED_LIMIT[T.5]  POSTED_SPEED_LIMIT[T.10]  \\\n",
      "0        1.0                      0.0                       0.0   \n",
      "1        1.0                      0.0                       0.0   \n",
      "2        1.0                      0.0                       0.0   \n",
      "3        1.0                      0.0                       0.0   \n",
      "4        1.0                      0.0                       0.0   \n",
      "\n",
      "   POSTED_SPEED_LIMIT[T.15]  POSTED_SPEED_LIMIT[T.20]  \\\n",
      "0                       0.0                       0.0   \n",
      "1                       0.0                       0.0   \n",
      "2                       0.0                       0.0   \n",
      "3                       0.0                       0.0   \n",
      "4                       1.0                       0.0   \n",
      "\n",
      "   POSTED_SPEED_LIMIT[T.25]  POSTED_SPEED_LIMIT[T.30]  \\\n",
      "0                       0.0                       1.0   \n",
      "1                       0.0                       0.0   \n",
      "2                       0.0                       1.0   \n",
      "3                       0.0                       1.0   \n",
      "4                       0.0                       0.0   \n",
      "\n",
      "   POSTED_SPEED_LIMIT[T.35]  POSTED_SPEED_LIMIT[T.40]  \\\n",
      "0                       0.0                       0.0   \n",
      "1                       0.0                       0.0   \n",
      "2                       0.0                       0.0   \n",
      "3                       0.0                       0.0   \n",
      "4                       0.0                       0.0   \n",
      "\n",
      "   POSTED_SPEED_LIMIT[T.45]  ...  Crash_Year[T.2015]  Crash_Year[T.2016]  \\\n",
      "0                       0.0  ...                 0.0                 0.0   \n",
      "1                       0.0  ...                 0.0                 0.0   \n",
      "2                       0.0  ...                 0.0                 0.0   \n",
      "3                       0.0  ...                 0.0                 0.0   \n",
      "4                       0.0  ...                 0.0                 0.0   \n",
      "\n",
      "   Crash_Year[T.2017]  Crash_Year[T.2018]  Crash_Year[T.2019]  \\\n",
      "0                 0.0                 0.0                 0.0   \n",
      "1                 0.0                 0.0                 0.0   \n",
      "2                 0.0                 0.0                 0.0   \n",
      "3                 0.0                 0.0                 0.0   \n",
      "4                 0.0                 0.0                 0.0   \n",
      "\n",
      "   Crash_Year[T.2020]  Crash_Year[T.2021]  Crash_Year[T.2022]  \\\n",
      "0                 0.0                 0.0                 0.0   \n",
      "1                 0.0                 0.0                 0.0   \n",
      "2                 0.0                 0.0                 0.0   \n",
      "3                 0.0                 0.0                 0.0   \n",
      "4                 0.0                 0.0                 0.0   \n",
      "\n",
      "   Crash_Year[T.2023]  Crash_Year[T.2024]  \n",
      "0                 1.0                 0.0  \n",
      "1                 1.0                 0.0  \n",
      "2                 1.0                 0.0  \n",
      "3                 1.0                 0.0  \n",
      "4                 1.0                 0.0  \n",
      "\n",
      "[5 rows x 436 columns]\n"
     ]
    }
   ],
   "source": [
    "# prompt: Turn all variables in X to dummy variables. using patsy\n",
    "import patsy\n",
    "\n",
    "# Create a formula describing the model\n",
    "formula = 'C(MOST_SEVERE_INJURY) ~ ' + '+'.join(X.columns)\n",
    "\n",
    "# Use patsy to create a design matrix\n",
    "design_matrix = patsy.dmatrices(formula, data=df_selected_crashes, return_type='dataframe')\n",
    "\n",
    "# Extract the predictor matrix\n",
    "X_transformed = design_matrix[1]\n",
    "\n",
    "# Print the transformed predictor matrix\n",
    "print(X_transformed.head())\n",
    "\n"
   ]
  },
  {
   "cell_type": "code",
   "execution_count": 22,
   "id": "_v9mP2PUxmu9",
   "metadata": {
    "colab": {
     "base_uri": "https://localhost:8080/"
    },
    "id": "_v9mP2PUxmu9",
    "outputId": "c857fe8f-a837-4a45-c2c5-188ddcad80cb"
   },
   "outputs": [
    {
     "data": {
      "text/plain": [
       "0       INCAPACITATING INJURY\n",
       "1     NO INDICATION OF INJURY\n",
       "2     NO INDICATION OF INJURY\n",
       "3     NO INDICATION OF INJURY\n",
       "4    NONINCAPACITATING INJURY\n",
       "Name: MOST_SEVERE_INJURY, dtype: object"
      ]
     },
     "execution_count": 22,
     "metadata": {},
     "output_type": "execute_result"
    }
   ],
   "source": [
    "y.head()"
   ]
  },
  {
   "cell_type": "markdown",
   "id": "f570f18e",
   "metadata": {
    "id": "f570f18e"
   },
   "source": [
    "Turn all variables in X to dummy variables."
   ]
  },
  {
   "cell_type": "markdown",
   "id": "87a4ecd4",
   "metadata": {
    "id": "87a4ecd4"
   },
   "source": [
    "Split the dataset to train and test."
   ]
  },
  {
   "cell_type": "code",
   "execution_count": 23,
   "id": "f453862d",
   "metadata": {
    "id": "f453862d"
   },
   "outputs": [],
   "source": [
    "# prompt: Split the dataset to train and test.\n",
    "\n",
    "from sklearn.model_selection import train_test_split\n",
    "\n",
    "X_train, X_test, y_train, y_test = train_test_split(X_transformed, y, test_size=0.33, random_state=42)\n"
   ]
  },
  {
   "cell_type": "code",
   "execution_count": 26,
   "id": "Jmci2hBZGZwK",
   "metadata": {
    "colab": {
     "base_uri": "https://localhost:8080/",
     "height": 256
    },
    "id": "Jmci2hBZGZwK",
    "outputId": "a6ab9b0b-66f9-49e9-cadc-b5fd52fdfdb8"
   },
   "outputs": [
    {
     "data": {
      "text/html": [
       "<div>\n",
       "<style scoped>\n",
       "    .dataframe tbody tr th:only-of-type {\n",
       "        vertical-align: middle;\n",
       "    }\n",
       "\n",
       "    .dataframe tbody tr th {\n",
       "        vertical-align: top;\n",
       "    }\n",
       "\n",
       "    .dataframe thead th {\n",
       "        text-align: right;\n",
       "    }\n",
       "</style>\n",
       "<table border=\"1\" class=\"dataframe\">\n",
       "  <thead>\n",
       "    <tr style=\"text-align: right;\">\n",
       "      <th></th>\n",
       "      <th>Intercept</th>\n",
       "      <th>POSTED_SPEED_LIMIT[T.5]</th>\n",
       "      <th>POSTED_SPEED_LIMIT[T.10]</th>\n",
       "      <th>POSTED_SPEED_LIMIT[T.15]</th>\n",
       "      <th>POSTED_SPEED_LIMIT[T.20]</th>\n",
       "      <th>POSTED_SPEED_LIMIT[T.25]</th>\n",
       "      <th>POSTED_SPEED_LIMIT[T.30]</th>\n",
       "      <th>POSTED_SPEED_LIMIT[T.35]</th>\n",
       "      <th>POSTED_SPEED_LIMIT[T.40]</th>\n",
       "      <th>POSTED_SPEED_LIMIT[T.45]</th>\n",
       "      <th>...</th>\n",
       "      <th>Crash_Year[T.2015]</th>\n",
       "      <th>Crash_Year[T.2016]</th>\n",
       "      <th>Crash_Year[T.2017]</th>\n",
       "      <th>Crash_Year[T.2018]</th>\n",
       "      <th>Crash_Year[T.2019]</th>\n",
       "      <th>Crash_Year[T.2020]</th>\n",
       "      <th>Crash_Year[T.2021]</th>\n",
       "      <th>Crash_Year[T.2022]</th>\n",
       "      <th>Crash_Year[T.2023]</th>\n",
       "      <th>Crash_Year[T.2024]</th>\n",
       "    </tr>\n",
       "  </thead>\n",
       "  <tbody>\n",
       "    <tr>\n",
       "      <th>116075</th>\n",
       "      <td>1.0</td>\n",
       "      <td>0.0</td>\n",
       "      <td>0.0</td>\n",
       "      <td>0.0</td>\n",
       "      <td>0.0</td>\n",
       "      <td>0.0</td>\n",
       "      <td>1.0</td>\n",
       "      <td>0.0</td>\n",
       "      <td>0.0</td>\n",
       "      <td>0.0</td>\n",
       "      <td>...</td>\n",
       "      <td>0.0</td>\n",
       "      <td>0.0</td>\n",
       "      <td>0.0</td>\n",
       "      <td>0.0</td>\n",
       "      <td>0.0</td>\n",
       "      <td>0.0</td>\n",
       "      <td>0.0</td>\n",
       "      <td>0.0</td>\n",
       "      <td>1.0</td>\n",
       "      <td>0.0</td>\n",
       "    </tr>\n",
       "    <tr>\n",
       "      <th>380069</th>\n",
       "      <td>1.0</td>\n",
       "      <td>0.0</td>\n",
       "      <td>0.0</td>\n",
       "      <td>0.0</td>\n",
       "      <td>0.0</td>\n",
       "      <td>0.0</td>\n",
       "      <td>1.0</td>\n",
       "      <td>0.0</td>\n",
       "      <td>0.0</td>\n",
       "      <td>0.0</td>\n",
       "      <td>...</td>\n",
       "      <td>0.0</td>\n",
       "      <td>0.0</td>\n",
       "      <td>0.0</td>\n",
       "      <td>0.0</td>\n",
       "      <td>0.0</td>\n",
       "      <td>0.0</td>\n",
       "      <td>0.0</td>\n",
       "      <td>1.0</td>\n",
       "      <td>0.0</td>\n",
       "      <td>0.0</td>\n",
       "    </tr>\n",
       "    <tr>\n",
       "      <th>168361</th>\n",
       "      <td>1.0</td>\n",
       "      <td>0.0</td>\n",
       "      <td>0.0</td>\n",
       "      <td>0.0</td>\n",
       "      <td>0.0</td>\n",
       "      <td>0.0</td>\n",
       "      <td>0.0</td>\n",
       "      <td>1.0</td>\n",
       "      <td>0.0</td>\n",
       "      <td>0.0</td>\n",
       "      <td>...</td>\n",
       "      <td>0.0</td>\n",
       "      <td>0.0</td>\n",
       "      <td>0.0</td>\n",
       "      <td>0.0</td>\n",
       "      <td>1.0</td>\n",
       "      <td>0.0</td>\n",
       "      <td>0.0</td>\n",
       "      <td>0.0</td>\n",
       "      <td>0.0</td>\n",
       "      <td>0.0</td>\n",
       "    </tr>\n",
       "    <tr>\n",
       "      <th>248267</th>\n",
       "      <td>1.0</td>\n",
       "      <td>0.0</td>\n",
       "      <td>0.0</td>\n",
       "      <td>0.0</td>\n",
       "      <td>0.0</td>\n",
       "      <td>0.0</td>\n",
       "      <td>0.0</td>\n",
       "      <td>1.0</td>\n",
       "      <td>0.0</td>\n",
       "      <td>0.0</td>\n",
       "      <td>...</td>\n",
       "      <td>0.0</td>\n",
       "      <td>0.0</td>\n",
       "      <td>0.0</td>\n",
       "      <td>1.0</td>\n",
       "      <td>0.0</td>\n",
       "      <td>0.0</td>\n",
       "      <td>0.0</td>\n",
       "      <td>0.0</td>\n",
       "      <td>0.0</td>\n",
       "      <td>0.0</td>\n",
       "    </tr>\n",
       "    <tr>\n",
       "      <th>281614</th>\n",
       "      <td>1.0</td>\n",
       "      <td>0.0</td>\n",
       "      <td>0.0</td>\n",
       "      <td>1.0</td>\n",
       "      <td>0.0</td>\n",
       "      <td>0.0</td>\n",
       "      <td>0.0</td>\n",
       "      <td>0.0</td>\n",
       "      <td>0.0</td>\n",
       "      <td>0.0</td>\n",
       "      <td>...</td>\n",
       "      <td>0.0</td>\n",
       "      <td>0.0</td>\n",
       "      <td>0.0</td>\n",
       "      <td>0.0</td>\n",
       "      <td>0.0</td>\n",
       "      <td>1.0</td>\n",
       "      <td>0.0</td>\n",
       "      <td>0.0</td>\n",
       "      <td>0.0</td>\n",
       "      <td>0.0</td>\n",
       "    </tr>\n",
       "  </tbody>\n",
       "</table>\n",
       "<p>5 rows × 436 columns</p>\n",
       "</div>"
      ],
      "text/plain": [
       "        Intercept  POSTED_SPEED_LIMIT[T.5]  POSTED_SPEED_LIMIT[T.10]  \\\n",
       "116075        1.0                      0.0                       0.0   \n",
       "380069        1.0                      0.0                       0.0   \n",
       "168361        1.0                      0.0                       0.0   \n",
       "248267        1.0                      0.0                       0.0   \n",
       "281614        1.0                      0.0                       0.0   \n",
       "\n",
       "        POSTED_SPEED_LIMIT[T.15]  POSTED_SPEED_LIMIT[T.20]  \\\n",
       "116075                       0.0                       0.0   \n",
       "380069                       0.0                       0.0   \n",
       "168361                       0.0                       0.0   \n",
       "248267                       0.0                       0.0   \n",
       "281614                       1.0                       0.0   \n",
       "\n",
       "        POSTED_SPEED_LIMIT[T.25]  POSTED_SPEED_LIMIT[T.30]  \\\n",
       "116075                       0.0                       1.0   \n",
       "380069                       0.0                       1.0   \n",
       "168361                       0.0                       0.0   \n",
       "248267                       0.0                       0.0   \n",
       "281614                       0.0                       0.0   \n",
       "\n",
       "        POSTED_SPEED_LIMIT[T.35]  POSTED_SPEED_LIMIT[T.40]  \\\n",
       "116075                       0.0                       0.0   \n",
       "380069                       0.0                       0.0   \n",
       "168361                       1.0                       0.0   \n",
       "248267                       1.0                       0.0   \n",
       "281614                       0.0                       0.0   \n",
       "\n",
       "        POSTED_SPEED_LIMIT[T.45]  ...  Crash_Year[T.2015]  Crash_Year[T.2016]  \\\n",
       "116075                       0.0  ...                 0.0                 0.0   \n",
       "380069                       0.0  ...                 0.0                 0.0   \n",
       "168361                       0.0  ...                 0.0                 0.0   \n",
       "248267                       0.0  ...                 0.0                 0.0   \n",
       "281614                       0.0  ...                 0.0                 0.0   \n",
       "\n",
       "        Crash_Year[T.2017]  Crash_Year[T.2018]  Crash_Year[T.2019]  \\\n",
       "116075                 0.0                 0.0                 0.0   \n",
       "380069                 0.0                 0.0                 0.0   \n",
       "168361                 0.0                 0.0                 1.0   \n",
       "248267                 0.0                 1.0                 0.0   \n",
       "281614                 0.0                 0.0                 0.0   \n",
       "\n",
       "        Crash_Year[T.2020]  Crash_Year[T.2021]  Crash_Year[T.2022]  \\\n",
       "116075                 0.0                 0.0                 0.0   \n",
       "380069                 0.0                 0.0                 1.0   \n",
       "168361                 0.0                 0.0                 0.0   \n",
       "248267                 0.0                 0.0                 0.0   \n",
       "281614                 1.0                 0.0                 0.0   \n",
       "\n",
       "        Crash_Year[T.2023]  Crash_Year[T.2024]  \n",
       "116075                 1.0                 0.0  \n",
       "380069                 0.0                 0.0  \n",
       "168361                 0.0                 0.0  \n",
       "248267                 0.0                 0.0  \n",
       "281614                 0.0                 0.0  \n",
       "\n",
       "[5 rows x 436 columns]"
      ]
     },
     "execution_count": 26,
     "metadata": {},
     "output_type": "execute_result"
    }
   ],
   "source": [
    "import pandas as pd\n",
    "\n",
    "X_train_df = pd.DataFrame(X_train)\n",
    "X_train_df.head()"
   ]
  },
  {
   "cell_type": "markdown",
   "id": "a598b06b",
   "metadata": {
    "id": "a598b06b"
   },
   "source": [
    "10. Next we will fit different classifiers: KNN, LDA, QDA and NB."
   ]
  },
  {
   "cell_type": "markdown",
   "id": "b6aa0088",
   "metadata": {
    "id": "b6aa0088"
   },
   "source": [
    "10.1 Import classifier modules"
   ]
  },
  {
   "cell_type": "code",
   "execution_count": 27,
   "id": "ed8dd572",
   "metadata": {
    "id": "ed8dd572"
   },
   "outputs": [],
   "source": [
    "# prompt:  Import classifier modules\n",
    "\n",
    "from sklearn import neighbors, discriminant_analysis, naive_bayes\n"
   ]
  },
  {
   "cell_type": "markdown",
   "id": "d797d284",
   "metadata": {
    "id": "d797d284"
   },
   "source": [
    "10.2 Initiate the classifiers"
   ]
  },
  {
   "cell_type": "code",
   "execution_count": 28,
   "id": "1ecbdc26",
   "metadata": {
    "colab": {
     "base_uri": "https://localhost:8080/",
     "height": 216
    },
    "id": "1ecbdc26",
    "outputId": "aa6ad7b6-b0a9-407c-9202-e8955b368d51"
   },
   "outputs": [],
   "source": [
    "# prompt: Initiate the classifiers\n",
    "\n",
    "knn = neighbors.KNeighborsClassifier()\n",
    "lda = discriminant_analysis.LinearDiscriminantAnalysis()\n",
    "qda = discriminant_analysis.QuadraticDiscriminantAnalysis()\n",
    "nb = naive_bayes.GaussianNB()\n"
   ]
  },
  {
   "cell_type": "markdown",
   "id": "05bef565",
   "metadata": {
    "id": "05bef565"
   },
   "source": [
    "10.3 Fit the KNN using the training dataset and get the accuracy score and confusion matrix for the test dataset.<br>\n",
    "NOTE: It will take <b>a long time</b> (more than 30 minutes on my computer) to run the prediction. You may want to leave the program run and come back later for the results.\n",
    "\n",
    "How to read the confusion matrix?"
   ]
  },
  {
   "cell_type": "code",
   "execution_count": 39,
   "id": "b67a7a7a",
   "metadata": {
    "id": "b67a7a7a"
   },
   "outputs": [
    {
     "name": "stderr",
     "output_type": "stream",
     "text": [
      "/Users/pujamadhav/anaconda3/lib/python3.11/site-packages/sklearn/base.py:464: UserWarning: X does not have valid feature names, but KNeighborsClassifier was fitted with feature names\n",
      "  warnings.warn(\n"
     ]
    },
    {
     "name": "stdout",
     "output_type": "stream",
     "text": [
      "0.8580559441594683\n",
      "[[     0      8    267     14      1]\n",
      " [     1     52   4238    261     28]\n",
      " [     6    240 230702   1654    300]\n",
      " [     5    195  19720   1027    100]\n",
      " [     1     52  10932    330     64]]\n",
      "Confusion Matrix\n",
      "Confusion Matrix (Accuracy 0.8581)\n",
      "\n",
      "       Prediction\n",
      "Actual      0      1      2      3      4\n",
      "     0      0      8    267     14      1\n",
      "     1      1     52   4238    261     28\n",
      "     2      6    240 230702   1654    300\n",
      "     3      5    195  19720   1027    100\n",
      "     4      1     52  10932    330     64\n"
     ]
    }
   ],
   "source": [
    "from sklearn import metrics\n",
    "from dmba import classificationSummary\n",
    "import numpy as np\n",
    "\n",
    "X_test = np.array(X_test)\n",
    "knn.fit(X_train, y_train)\n",
    "knn_predict=knn.predict(X_test)\n",
    "print(metrics.accuracy_score(y_test, knn_predict))\n",
    "print(metrics.confusion_matrix(y_test, knn_predict))\n",
    "print(\"Confusion Matrix\")\n",
    "classificationSummary(y_test, knn_predict)\n",
    "\n",
    "\n"
   ]
  },
  {
   "cell_type": "markdown",
   "id": "14259d65",
   "metadata": {},
   "source": [
    "The KNN classifier achieved an accuracy of 85.8% on the test dataset. This means that it correctly classified 85.8% of the crashes in the test dataset.\n",
    "\n",
    "The confusion matrix shows the number of crashes that were correctly and incorrectly classified by the KNN classifier. The diagonal elements of the matrix show the number of crashes that were correctly classified. For example, the element in the second row and second  column shows that 52 crashes with no injuries were correctly classified as such.\n",
    "\n",
    "The off-diagonal elements of the matrix show the number of crashes that were incorrectly classified. For example, the element in the first row and second column shows that 8 crashes with no injuries were incorrectly classified as having non-incapacitating injuries.\n",
    "\n",
    "Overall, the KNN classifier performed moderately well on the test dataset. It was able to correctly classify the majority of crashes, but it also made some mistakes."
   ]
  },
  {
   "cell_type": "markdown",
   "id": "cb773283",
   "metadata": {
    "id": "cb773283"
   },
   "source": [
    "10.4. Repeat for LDA."
   ]
  },
  {
   "cell_type": "code",
   "execution_count": 37,
   "id": "2f0d8310",
   "metadata": {
    "colab": {
     "base_uri": "https://localhost:8080/",
     "height": 216
    },
    "id": "2f0d8310",
    "outputId": "6c361bd6-fc9f-409d-8de6-977bb9111fc4"
   },
   "outputs": [],
   "source": [
    "# prompt: Repeat for LDA.\n",
    "\n",
    "lda.fit(X_train, y_train)\n",
    "lda_predict = lda.predict(X_test)\n"
   ]
  },
  {
   "cell_type": "code",
   "execution_count": 36,
   "id": "0Vpeo4h6Fr7U",
   "metadata": {
    "id": "0Vpeo4h6Fr7U"
   },
   "outputs": [
    {
     "name": "stdout",
     "output_type": "stream",
     "text": [
      "0.8648250542194983\n",
      "[[    10     58    211     11      0]\n",
      " [    61   1057   3064    398      0]\n",
      " [   225    752 230601   1324      0]\n",
      " [   170   3252  15619   2006      0]\n",
      " [    34   1021   9861    463      0]]\n",
      "Confusion Matrix\n",
      "Confusion Matrix (Accuracy 0.8648)\n",
      "\n",
      "       Prediction\n",
      "Actual      0      1      2      3      4\n",
      "     0     10     58    211     11      0\n",
      "     1     61   1057   3064    398      0\n",
      "     2    225    752 230601   1324      0\n",
      "     3    170   3252  15619   2006      0\n",
      "     4     34   1021   9861    463      0\n"
     ]
    }
   ],
   "source": [
    "# prompt: print the accuracy and cinfusion matric for lda\n",
    "from sklearn import metrics\n",
    "from dmba import classificationSummary\n",
    "\n",
    "\n",
    "lda = discriminant_analysis.LinearDiscriminantAnalysis()\n",
    "\n",
    "lda.fit(X_train, y_train)\n",
    "lda_predict = lda.predict(X_test)\n",
    "print(metrics.accuracy_score(y_test, lda_predict))\n",
    "print(metrics.confusion_matrix(y_test, lda_predict))\n",
    "print(\"Confusion Matrix\")\n",
    "classificationSummary(y_test, lda_predict)\n",
    "\n"
   ]
  },
  {
   "cell_type": "markdown",
   "id": "0fe37242",
   "metadata": {},
   "source": [
    "The LDA classifier achieved an accuracy of 86.4% on the test dataset. This means that it correctly classified 86.4% of the crashes in the test dataset.\n",
    "\n",
    "The confusion matrix shows the number of crashes that were correctly and incorrectly classified by the LDA classifier. The diagonal elements of the matrix show the number of crashes that were correctly classified. For example, the element in the first row and first column shows that 10 crashes with no injuries were correctly classified as such.\n",
    "\n",
    "The off-diagonal elements of the matrix show the number of crashes that were incorrectly classified. For example, the element in the first row and second column shows that 58 crashes with no injuries were incorrectly classified as having non-incapacitating injuries.\n",
    "\n",
    "Overall, the LDA classifier performed moderately well on the test dataset. It was able to correctly classify the majority of crashes, but it also made some mistakes.\n",
    "\n",
    "In simple words, the LDA classifier correctly classified about 86% of the crashes in the test dataset. It made some mistakes, but it was still able to correctly classify the majority of crashes."
   ]
  },
  {
   "cell_type": "markdown",
   "id": "e05aee06",
   "metadata": {
    "id": "e05aee06"
   },
   "source": [
    "10.5 Repeat for QDA. What is your observation?"
   ]
  },
  {
   "cell_type": "code",
   "execution_count": 33,
   "id": "f6dc55fb",
   "metadata": {
    "id": "f6dc55fb"
   },
   "outputs": [
    {
     "name": "stderr",
     "output_type": "stream",
     "text": [
      "/Users/pujamadhav/anaconda3/lib/python3.11/site-packages/sklearn/discriminant_analysis.py:935: UserWarning: Variables are collinear\n",
      "  warnings.warn(\"Variables are collinear\")\n"
     ]
    },
    {
     "name": "stdout",
     "output_type": "stream",
     "text": [
      "Accuracy of QDA classifier on test set: 0.04\n",
      "Accuracy of QDA classifier on training set: 0.05\n",
      "Confusion matrix of QDA classifier on test set:\n",
      "[[   245     23      3      2     17]\n",
      " [  3723    374    100     41    342]\n",
      " [185528  15922  10343   1350  19759]\n",
      " [ 17068   1659    433    163   1724]\n",
      " [  9163    852    260     87   1017]]\n",
      "Confusion Matrix\n",
      "Confusion Matrix (Accuracy 0.0449)\n",
      "\n",
      "       Prediction\n",
      "Actual      0      1      2      3      4\n",
      "     0    245     23      3      2     17\n",
      "     1   3723    374    100     41    342\n",
      "     2 185528  15922  10343   1350  19759\n",
      "     3  17068   1659    433    163   1724\n",
      "     4   9163    852    260     87   1017\n"
     ]
    }
   ],
   "source": [
    "# prompt: Repeat for QDA. What is your observation?\n",
    "from sklearn.metrics import confusion_matrix\n",
    "from dmba import classificationSummary\n",
    "qda.fit(X_train, y_train)\n",
    "\n",
    "y_pred_qda = qda.predict(X_test)\n",
    "y_pred_qda_train = qda.predict(X_train)\n",
    "\n",
    "\n",
    "\n",
    "\n",
    "print('Accuracy of QDA classifier on test set: {:.2f}'.format(qda.score(X_test, y_test)))\n",
    "print('Accuracy of QDA classifier on training set: {:.2f}'.format(qda.score(X_train, y_train)))\n",
    "\n",
    "\n",
    "print('Confusion matrix of QDA classifier on test set:')\n",
    "print(confusion_matrix(y_test, y_pred_qda))\n",
    "print(\"Confusion Matrix\")\n",
    "classificationSummary(y_test, y_pred_qda)\n",
    "\n",
    "# Observations:\n",
    "# 1. The accuracy of QDA on the training set is 1.0, which means it perfectly classifies all the training samples. However, the accuracy on the test set is only 0.48, which indicates overfitting.\n",
    "# 2. The confusion matrix shows that QDA misclassifies a significant number of samples, especially those belonging to the \"Other\" and \"Non-incapacitating Injury\" categories.\n",
    "# 3. Compared to KNN and LDA, QDA performs the worst on the test set, suggesting that it is not suitable for this classification problem.\n"
   ]
  },
  {
   "cell_type": "markdown",
   "id": "35650d5d",
   "metadata": {},
   "source": [
    "The accuracy of the QDA classifier on the test set is 4%. This means that it correctly classified 4% of the crashes in the test dataset.\n",
    "\n",
    "The confusion matrix shows the number of crashes that were correctly and incorrectly classified by the ADA classifier. The diagonal elements of the matrix show the number of crashes that were correctly classified. For example, the element in the first row and first column shows that 245 crashes with no injuries were correctly classified as such.\n",
    "\n",
    "The off-diagonal elements of the matrix show the number of crashes that were incorrectly classified. For example, the element in the first row and second column shows that 23 crashes with no injuries were incorrectly classified as having non-incapacitating injuries.\n"
   ]
  },
  {
   "cell_type": "markdown",
   "id": "0c3ab59c",
   "metadata": {
    "id": "0c3ab59c"
   },
   "source": [
    "10.6 Repeat for Naive Bayes. What is your observation?"
   ]
  },
  {
   "cell_type": "code",
   "execution_count": 38,
   "id": "38c0e154",
   "metadata": {
    "id": "38c0e154"
   },
   "outputs": [
    {
     "name": "stdout",
     "output_type": "stream",
     "text": [
      "Accuracy of Naive Bayes classifier on test set: 0.06\n",
      "Accuracy of Naive Bayes classifier on training set: 0.06\n",
      "Confusion matrix of Naive Bayes classifier on test set:\n",
      "[[   245     26      2      7     10]\n",
      " [  3729    467     70    141    173]\n",
      " [186661  19005  13441   4092   9703]\n",
      " [ 17099   2167    321    601    859]\n",
      " [  9181   1061    269    289    579]]\n",
      "Confusion Matrix\n",
      "Confusion Matrix (Accuracy 0.0567)\n",
      "\n",
      "       Prediction\n",
      "Actual      0      1      2      3      4\n",
      "     0    245     26      2      7     10\n",
      "     1   3729    467     70    141    173\n",
      "     2 186661  19005  13441   4092   9703\n",
      "     3  17099   2167    321    601    859\n",
      "     4   9181   1061    269    289    579\n"
     ]
    }
   ],
   "source": [
    "# prompt: Repeat for Naive Bayes. What is your observation?\n",
    "from dmba import classificationSummary\n",
    "\n",
    "nb.fit(X_train, y_train)\n",
    "\n",
    "y_pred_nb = nb.predict(X_test)\n",
    "y_pred_nb_train = nb.predict(X_train)\n",
    "\n",
    "\n",
    "\n",
    "\n",
    "print('Accuracy of Naive Bayes classifier on test set: {:.2f}'.format(nb.score(X_test, y_test)))\n",
    "print('Accuracy of Naive Bayes classifier on training set: {:.2f}'.format(nb.score(X_train, y_train)))\n",
    "\n",
    "\n",
    "print('Confusion matrix of Naive Bayes classifier on test set:')\n",
    "print(confusion_matrix(y_test, y_pred_nb))\n",
    "print(\"Confusion Matrix\")\n",
    "classificationSummary(y_test, y_pred_nb)\n"
   ]
  },
  {
   "cell_type": "markdown",
   "id": "81fd89fd",
   "metadata": {},
   "source": [
    "Observations and Interpretations:\n",
    "\n",
    "The accuracy of the Naive Bayes classifier on the test set is 5%, which means that it correctly classified 48% of the crashes in the test dataset.\n",
    "\n",
    "The confusion matrix shows the number of crashes that were correctly and incorrectly classified by the Naive Bayes classifier. The diagonal elements of the matrix show the number of crashes that were correctly classified. For example, the element in the first row and first column shows that 245 crashes with no injuries were correctly classified as such.\n",
    "\n",
    "The off-diagonal elements of the matrix show the number of crashes that were incorrectly classified. For example, the element in the first row and second column shows that 26 crashes with no injuries were incorrectly classified as having non-incapacitating injuries."
   ]
  }
 ],
 "metadata": {
  "colab": {
   "provenance": []
  },
  "kernelspec": {
   "display_name": "Python 3 (ipykernel)",
   "language": "python",
   "name": "python3"
  },
  "language_info": {
   "codemirror_mode": {
    "name": "ipython",
    "version": 3
   },
   "file_extension": ".py",
   "mimetype": "text/x-python",
   "name": "python",
   "nbconvert_exporter": "python",
   "pygments_lexer": "ipython3",
   "version": "3.11.5"
  }
 },
 "nbformat": 4,
 "nbformat_minor": 5
}
